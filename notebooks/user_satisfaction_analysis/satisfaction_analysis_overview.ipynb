{
 "cells": [
  {
   "cell_type": "code",
   "execution_count": 1,
   "metadata": {},
   "outputs": [
    {
     "data": {
      "text/plain": [
       "['c:\\\\Users\\\\mekbi\\\\Desktop\\\\Kifiya\\\\week-2\\\\telecom-data-analysis',\n",
       " 'C:\\\\Users\\\\mekbi\\\\AppData\\\\Local\\\\Programs\\\\Python\\\\Python312\\\\python312.zip',\n",
       " 'C:\\\\Users\\\\mekbi\\\\AppData\\\\Local\\\\Programs\\\\Python\\\\Python312\\\\DLLs',\n",
       " 'C:\\\\Users\\\\mekbi\\\\AppData\\\\Local\\\\Programs\\\\Python\\\\Python312\\\\Lib',\n",
       " 'C:\\\\Users\\\\mekbi\\\\AppData\\\\Local\\\\Programs\\\\Python\\\\Python312',\n",
       " 'c:\\\\Users\\\\mekbi\\\\Desktop\\\\Kifiya\\\\week-2\\\\telecom-data-analysis\\\\venv',\n",
       " '',\n",
       " 'c:\\\\Users\\\\mekbi\\\\Desktop\\\\Kifiya\\\\week-2\\\\telecom-data-analysis\\\\venv\\\\Lib\\\\site-packages',\n",
       " 'c:\\\\Users\\\\mekbi\\\\Desktop\\\\Kifiya\\\\week-2\\\\telecom-data-analysis\\\\venv\\\\Lib\\\\site-packages\\\\win32',\n",
       " 'c:\\\\Users\\\\mekbi\\\\Desktop\\\\Kifiya\\\\week-2\\\\telecom-data-analysis\\\\venv\\\\Lib\\\\site-packages\\\\win32\\\\lib',\n",
       " 'c:\\\\Users\\\\mekbi\\\\Desktop\\\\Kifiya\\\\week-2\\\\telecom-data-analysis\\\\venv\\\\Lib\\\\site-packages\\\\Pythonwin']"
      ]
     },
     "execution_count": 1,
     "metadata": {},
     "output_type": "execute_result"
    }
   ],
   "source": [
    "# Add the parent directory to sys.path\n",
    "import sys, os\n",
    "from pathlib import Path\n",
    "\n",
    "current_directory = os.getcwd()\n",
    "parent_directory = Path(current_directory).parent.parent\n",
    "sys.path.insert(0, str(parent_directory))\n",
    "sys.path"
   ]
  },
  {
   "cell_type": "markdown",
   "metadata": {},
   "source": [
    "### Load engagement and experience data"
   ]
  },
  {
   "cell_type": "code",
   "execution_count": 2,
   "metadata": {},
   "outputs": [
    {
     "data": {
      "text/html": [
       "<div>\n",
       "<style scoped>\n",
       "    .dataframe tbody tr th:only-of-type {\n",
       "        vertical-align: middle;\n",
       "    }\n",
       "\n",
       "    .dataframe tbody tr th {\n",
       "        vertical-align: top;\n",
       "    }\n",
       "\n",
       "    .dataframe thead th {\n",
       "        text-align: right;\n",
       "    }\n",
       "</style>\n",
       "<table border=\"1\" class=\"dataframe\">\n",
       "  <thead>\n",
       "    <tr style=\"text-align: right;\">\n",
       "      <th></th>\n",
       "      <th>MSISDN/Number</th>\n",
       "      <th>Session Dur. (ms)</th>\n",
       "      <th>Session Frequency</th>\n",
       "      <th>Total Data (Bytes)</th>\n",
       "    </tr>\n",
       "  </thead>\n",
       "  <tbody>\n",
       "    <tr>\n",
       "      <th>0</th>\n",
       "      <td>3.360100e+10</td>\n",
       "      <td>116720.0</td>\n",
       "      <td>1</td>\n",
       "      <td>8.786906e+08</td>\n",
       "    </tr>\n",
       "    <tr>\n",
       "      <th>1</th>\n",
       "      <td>3.360100e+10</td>\n",
       "      <td>181230.0</td>\n",
       "      <td>1</td>\n",
       "      <td>1.568596e+08</td>\n",
       "    </tr>\n",
       "    <tr>\n",
       "      <th>2</th>\n",
       "      <td>3.360100e+10</td>\n",
       "      <td>134969.0</td>\n",
       "      <td>1</td>\n",
       "      <td>5.959665e+08</td>\n",
       "    </tr>\n",
       "    <tr>\n",
       "      <th>3</th>\n",
       "      <td>3.360101e+10</td>\n",
       "      <td>49878.0</td>\n",
       "      <td>1</td>\n",
       "      <td>4.223207e+08</td>\n",
       "    </tr>\n",
       "    <tr>\n",
       "      <th>4</th>\n",
       "      <td>3.360101e+10</td>\n",
       "      <td>37104.0</td>\n",
       "      <td>2</td>\n",
       "      <td>1.457411e+09</td>\n",
       "    </tr>\n",
       "  </tbody>\n",
       "</table>\n",
       "</div>"
      ],
      "text/plain": [
       "   MSISDN/Number  Session Dur. (ms)  Session Frequency  Total Data (Bytes)\n",
       "0   3.360100e+10           116720.0                  1        8.786906e+08\n",
       "1   3.360100e+10           181230.0                  1        1.568596e+08\n",
       "2   3.360100e+10           134969.0                  1        5.959665e+08\n",
       "3   3.360101e+10            49878.0                  1        4.223207e+08\n",
       "4   3.360101e+10            37104.0                  2        1.457411e+09"
      ]
     },
     "execution_count": 2,
     "metadata": {},
     "output_type": "execute_result"
    }
   ],
   "source": [
    "# Load engagement data\n",
    "import pandas as pd\n",
    "\n",
    "engagement_data = pd.read_pickle('./engagement_data.pkl')\n",
    "engagement_data.head()"
   ]
  },
  {
   "cell_type": "code",
   "execution_count": 3,
   "metadata": {},
   "outputs": [
    {
     "data": {
      "text/html": [
       "<div>\n",
       "<style scoped>\n",
       "    .dataframe tbody tr th:only-of-type {\n",
       "        vertical-align: middle;\n",
       "    }\n",
       "\n",
       "    .dataframe tbody tr th {\n",
       "        vertical-align: top;\n",
       "    }\n",
       "\n",
       "    .dataframe thead th {\n",
       "        text-align: right;\n",
       "    }\n",
       "</style>\n",
       "<table border=\"1\" class=\"dataframe\">\n",
       "  <thead>\n",
       "    <tr style=\"text-align: right;\">\n",
       "      <th></th>\n",
       "      <th>MSISDN/Number</th>\n",
       "      <th>Avg RTT DL (ms)</th>\n",
       "      <th>Avg RTT UL (ms)</th>\n",
       "      <th>Avg Bearer TP DL (kbps)</th>\n",
       "      <th>Avg Bearer TP UL (kbps)</th>\n",
       "      <th>TCP DL Retrans. Vol (Bytes)</th>\n",
       "      <th>TCP UL Retrans. Vol (Bytes)</th>\n",
       "      <th>Handset Type</th>\n",
       "    </tr>\n",
       "  </thead>\n",
       "  <tbody>\n",
       "    <tr>\n",
       "      <th>0</th>\n",
       "      <td>3.360100e+10</td>\n",
       "      <td>46.0</td>\n",
       "      <td>0.0</td>\n",
       "      <td>37.0</td>\n",
       "      <td>39.0</td>\n",
       "      <td>0.0</td>\n",
       "      <td>0.0</td>\n",
       "      <td>Huawei P20 Lite Huawei Nova 3E</td>\n",
       "    </tr>\n",
       "    <tr>\n",
       "      <th>1</th>\n",
       "      <td>3.360100e+10</td>\n",
       "      <td>30.0</td>\n",
       "      <td>1.0</td>\n",
       "      <td>48.0</td>\n",
       "      <td>51.0</td>\n",
       "      <td>0.0</td>\n",
       "      <td>0.0</td>\n",
       "      <td>Apple iPhone 7 (A1778)</td>\n",
       "    </tr>\n",
       "    <tr>\n",
       "      <th>2</th>\n",
       "      <td>3.360100e+10</td>\n",
       "      <td>0.0</td>\n",
       "      <td>0.0</td>\n",
       "      <td>48.0</td>\n",
       "      <td>49.0</td>\n",
       "      <td>0.0</td>\n",
       "      <td>0.0</td>\n",
       "      <td>undefined</td>\n",
       "    </tr>\n",
       "    <tr>\n",
       "      <th>3</th>\n",
       "      <td>3.360101e+10</td>\n",
       "      <td>69.0</td>\n",
       "      <td>15.0</td>\n",
       "      <td>204.0</td>\n",
       "      <td>44.0</td>\n",
       "      <td>1066.0</td>\n",
       "      <td>0.0</td>\n",
       "      <td>Apple iPhone 5S (A1457)</td>\n",
       "    </tr>\n",
       "    <tr>\n",
       "      <th>4</th>\n",
       "      <td>3.360101e+10</td>\n",
       "      <td>114.0</td>\n",
       "      <td>5.0</td>\n",
       "      <td>40395.0</td>\n",
       "      <td>103.0</td>\n",
       "      <td>9349630.0</td>\n",
       "      <td>21202.0</td>\n",
       "      <td>Apple iPhone Se (A1723)</td>\n",
       "    </tr>\n",
       "  </tbody>\n",
       "</table>\n",
       "</div>"
      ],
      "text/plain": [
       "   MSISDN/Number  Avg RTT DL (ms)  Avg RTT UL (ms)  Avg Bearer TP DL (kbps)  \\\n",
       "0   3.360100e+10             46.0              0.0                     37.0   \n",
       "1   3.360100e+10             30.0              1.0                     48.0   \n",
       "2   3.360100e+10              0.0              0.0                     48.0   \n",
       "3   3.360101e+10             69.0             15.0                    204.0   \n",
       "4   3.360101e+10            114.0              5.0                  40395.0   \n",
       "\n",
       "   Avg Bearer TP UL (kbps)  TCP DL Retrans. Vol (Bytes)  \\\n",
       "0                     39.0                          0.0   \n",
       "1                     51.0                          0.0   \n",
       "2                     49.0                          0.0   \n",
       "3                     44.0                       1066.0   \n",
       "4                    103.0                    9349630.0   \n",
       "\n",
       "   TCP UL Retrans. Vol (Bytes)                    Handset Type  \n",
       "0                          0.0  Huawei P20 Lite Huawei Nova 3E  \n",
       "1                          0.0          Apple iPhone 7 (A1778)  \n",
       "2                          0.0                       undefined  \n",
       "3                          0.0         Apple iPhone 5S (A1457)  \n",
       "4                      21202.0         Apple iPhone Se (A1723)  "
      ]
     },
     "execution_count": 3,
     "metadata": {},
     "output_type": "execute_result"
    }
   ],
   "source": [
    "# Load experience data\n",
    "experience_data = pd.read_pickle('./experience_data.pkl')\n",
    "experience_data.head()"
   ]
  },
  {
   "cell_type": "code",
   "execution_count": 4,
   "metadata": {},
   "outputs": [
    {
     "data": {
      "text/plain": [
       "Index(['MSISDN/Number', 'Avg RTT DL (ms)', 'Avg RTT UL (ms)',\n",
       "       'Avg Bearer TP DL (kbps)', 'Avg Bearer TP UL (kbps)',\n",
       "       'TCP DL Retrans. Vol (Bytes)', 'TCP UL Retrans. Vol (Bytes)'],\n",
       "      dtype='object')"
      ]
     },
     "execution_count": 4,
     "metadata": {},
     "output_type": "execute_result"
    }
   ],
   "source": [
    "experience_data = experience_data.drop('Handset Type', axis=1)\n",
    "experience_data.columns"
   ]
  },
  {
   "cell_type": "markdown",
   "metadata": {},
   "source": [
    "### Assign scores to each dataset"
   ]
  },
  {
   "cell_type": "markdown",
   "metadata": {},
   "source": [
    "##### Assign scores to engagement data using Euclidean Distance"
   ]
  },
  {
   "cell_type": "code",
   "execution_count": 41,
   "metadata": {},
   "outputs": [
    {
     "name": "stderr",
     "output_type": "stream",
     "text": [
      "INFO:scripts.satisfaction_utils:Data normalization successful\n"
     ]
    },
    {
     "name": "stderr",
     "output_type": "stream",
     "text": [
      "INFO:scripts.satisfaction_utils:KMeans clustering successful\n",
      "INFO:scripts.satisfaction_utils:Centroids calculated for 3 clusters\n"
     ]
    },
    {
     "data": {
      "text/plain": [
       "array([[ 2.6165375 ,  3.67617845,  3.25149318,  3.65952156],\n",
       "       [-0.22650113, -0.45038988, -0.39933634, -0.44233854],\n",
       "       [ 0.36485243,  0.97160709,  0.86275711,  0.94632975]])"
      ]
     },
     "execution_count": 41,
     "metadata": {},
     "output_type": "execute_result"
    }
   ],
   "source": [
    "# Get the centroids\n",
    "from scripts import satisfaction_utils\n",
    "\n",
    "engagement_centroids = satisfaction_utils.calculate_centroids(df=engagement_data.drop('MSISDN/Number', axis=1))\n",
    "engagement_centroids"
   ]
  },
  {
   "cell_type": "code",
   "execution_count": 42,
   "metadata": {},
   "outputs": [
    {
     "data": {
      "text/plain": [
       "array([-0.22650113, -0.45038988, -0.39933634, -0.44233854])"
      ]
     },
     "execution_count": 42,
     "metadata": {},
     "output_type": "execute_result"
    }
   ],
   "source": [
    "# Get the least engaged clusters centroid\n",
    "least_engaged_centroid = engagement_centroids[1]\n",
    "least_engaged_centroid"
   ]
  },
  {
   "cell_type": "code",
   "execution_count": 43,
   "metadata": {},
   "outputs": [
    {
     "data": {
      "text/plain": [
       "array([[0.00590825, 0.05555556, 0.09593143, 0.060468  ],\n",
       "       [0.00938651, 0.05555556, 0.01402598, 0.03000364],\n",
       "       [0.0068922 , 0.05555556, 0.06385101, 0.04804889],\n",
       "       ...,\n",
       "       [0.04692194, 0.05555556, 0.02256615, 0.04124173],\n",
       "       [0.01325784, 0.05555556, 0.06388747, 0.0493142 ],\n",
       "       [0.04651534, 0.05555556, 0.0120169 , 0.03741805]])"
      ]
     },
     "execution_count": 43,
     "metadata": {},
     "output_type": "execute_result"
    }
   ],
   "source": [
    "# Normalize the engagement data\n",
    "from scripts import enagagement_utils\n",
    "\n",
    "normalized_engagement_data = enagagement_utils.normalize_data(df=engagement_data.drop('MSISDN/Number', axis=1))\n",
    "normalized_engagement_data"
   ]
  },
  {
   "cell_type": "code",
   "execution_count": 44,
   "metadata": {},
   "outputs": [
    {
     "data": {
      "text/plain": [
       "[np.float64(0.8989435407329588),\n",
       " np.float64(0.8399995907005695),\n",
       " np.float64(0.8749146147328021),\n",
       " np.float64(0.8586798808829498),\n",
       " np.float64(0.9929902081460485),\n",
       " np.float64(0.9252134780198205),\n",
       " np.float64(0.9259643781489159),\n",
       " np.float64(0.8520792570128602),\n",
       " np.float64(0.9608318364759345),\n",
       " np.float64(0.8863692972230837)]"
      ]
     },
     "execution_count": 44,
     "metadata": {},
     "output_type": "execute_result"
    }
   ],
   "source": [
    "# Calculate engagement score for each user\n",
    "engagement_scores = []\n",
    "for user_data in normalized_engagement_data:\n",
    "    score = satisfaction_utils.euclidean_distance(data=user_data,\n",
    "                                                  centroid=least_engaged_centroid)\n",
    "    engagement_scores.append(score)\n",
    "\n",
    "engagement_scores[:10]"
   ]
  },
  {
   "cell_type": "code",
   "execution_count": 45,
   "metadata": {},
   "outputs": [
    {
     "data": {
      "text/html": [
       "<div>\n",
       "<style scoped>\n",
       "    .dataframe tbody tr th:only-of-type {\n",
       "        vertical-align: middle;\n",
       "    }\n",
       "\n",
       "    .dataframe tbody tr th {\n",
       "        vertical-align: top;\n",
       "    }\n",
       "\n",
       "    .dataframe thead th {\n",
       "        text-align: right;\n",
       "    }\n",
       "</style>\n",
       "<table border=\"1\" class=\"dataframe\">\n",
       "  <thead>\n",
       "    <tr style=\"text-align: right;\">\n",
       "      <th></th>\n",
       "      <th>MSISDN/Number</th>\n",
       "      <th>Session Dur. (ms)</th>\n",
       "      <th>Session Frequency</th>\n",
       "      <th>Total Data (Bytes)</th>\n",
       "      <th>Engagement Score</th>\n",
       "    </tr>\n",
       "  </thead>\n",
       "  <tbody>\n",
       "    <tr>\n",
       "      <th>0</th>\n",
       "      <td>3.360100e+10</td>\n",
       "      <td>116720.0</td>\n",
       "      <td>1</td>\n",
       "      <td>8.786906e+08</td>\n",
       "      <td>0.898944</td>\n",
       "    </tr>\n",
       "    <tr>\n",
       "      <th>1</th>\n",
       "      <td>3.360100e+10</td>\n",
       "      <td>181230.0</td>\n",
       "      <td>1</td>\n",
       "      <td>1.568596e+08</td>\n",
       "      <td>0.840000</td>\n",
       "    </tr>\n",
       "    <tr>\n",
       "      <th>2</th>\n",
       "      <td>3.360100e+10</td>\n",
       "      <td>134969.0</td>\n",
       "      <td>1</td>\n",
       "      <td>5.959665e+08</td>\n",
       "      <td>0.874915</td>\n",
       "    </tr>\n",
       "    <tr>\n",
       "      <th>3</th>\n",
       "      <td>3.360101e+10</td>\n",
       "      <td>49878.0</td>\n",
       "      <td>1</td>\n",
       "      <td>4.223207e+08</td>\n",
       "      <td>0.858680</td>\n",
       "    </tr>\n",
       "    <tr>\n",
       "      <th>4</th>\n",
       "      <td>3.360101e+10</td>\n",
       "      <td>37104.0</td>\n",
       "      <td>2</td>\n",
       "      <td>1.457411e+09</td>\n",
       "      <td>0.992990</td>\n",
       "    </tr>\n",
       "  </tbody>\n",
       "</table>\n",
       "</div>"
      ],
      "text/plain": [
       "   MSISDN/Number  Session Dur. (ms)  Session Frequency  Total Data (Bytes)  \\\n",
       "0   3.360100e+10           116720.0                  1        8.786906e+08   \n",
       "1   3.360100e+10           181230.0                  1        1.568596e+08   \n",
       "2   3.360100e+10           134969.0                  1        5.959665e+08   \n",
       "3   3.360101e+10            49878.0                  1        4.223207e+08   \n",
       "4   3.360101e+10            37104.0                  2        1.457411e+09   \n",
       "\n",
       "   Engagement Score  \n",
       "0          0.898944  \n",
       "1          0.840000  \n",
       "2          0.874915  \n",
       "3          0.858680  \n",
       "4          0.992990  "
      ]
     },
     "execution_count": 45,
     "metadata": {},
     "output_type": "execute_result"
    }
   ],
   "source": [
    "# Add the scores to the engagement dataframe\n",
    "engagement_data['Engagement Score'] = engagement_scores\n",
    "engagement_data.head()"
   ]
  },
  {
   "cell_type": "markdown",
   "metadata": {},
   "source": [
    "##### Assign scores to experience data using Euclidean Distance"
   ]
  },
  {
   "cell_type": "code",
   "execution_count": 46,
   "metadata": {},
   "outputs": [
    {
     "name": "stderr",
     "output_type": "stream",
     "text": [
      "INFO:scripts.satisfaction_utils:Data normalization successful\n",
      "INFO:scripts.satisfaction_utils:KMeans clustering successful\n",
      "INFO:scripts.satisfaction_utils:Centroids calculated for 3 clusters\n"
     ]
    },
    {
     "data": {
      "text/plain": [
       "array([[ 0.55799056,  0.48969613,  0.73836009,  0.7312117 ,  0.54368531,\n",
       "         0.59554496,  0.78870649],\n",
       "       [-0.31995584, -0.30674891, -0.37650335, -0.34700133, -0.30607488,\n",
       "        -0.31747229, -0.42493861],\n",
       "       [ 3.79719841,  4.07909109,  3.67603747,  2.89658408,  3.53649543,\n",
       "         3.36181411,  4.58154301]])"
      ]
     },
     "execution_count": 46,
     "metadata": {},
     "output_type": "execute_result"
    }
   ],
   "source": [
    "# Get the centroids\n",
    "experience_centroids = satisfaction_utils.calculate_centroids(df=experience_data.drop('MSISDN/Number', axis=1))\n",
    "experience_centroids"
   ]
  },
  {
   "cell_type": "code",
   "execution_count": 47,
   "metadata": {},
   "outputs": [
    {
     "data": {
      "text/plain": [
       "array([-0.31995584, -0.30674891, -0.37650335, -0.34700133, -0.30607488,\n",
       "       -0.31747229, -0.42493861])"
      ]
     },
     "execution_count": 47,
     "metadata": {},
     "output_type": "execute_result"
    }
   ],
   "source": [
    "# Get the least engaged clusters centroid\n",
    "worst_experience_centroid = experience_centroids[1]\n",
    "worst_experience_centroid"
   ]
  },
  {
   "cell_type": "code",
   "execution_count": 48,
   "metadata": {},
   "outputs": [
    {
     "data": {
      "text/plain": [
       "array([[4.69867211e-02, 0.00000000e+00, 1.41506548e-04, ...,\n",
       "        0.00000000e+00, 0.00000000e+00, 1.03662037e-02],\n",
       "       [3.06435138e-02, 4.73933649e-03, 1.83576062e-04, ...,\n",
       "        0.00000000e+00, 0.00000000e+00, 7.88185527e-03],\n",
       "       [0.00000000e+00, 0.00000000e+00, 1.83576062e-04, ...,\n",
       "        0.00000000e+00, 0.00000000e+00, 6.96941666e-04],\n",
       "       ...,\n",
       "       [0.00000000e+00, 0.00000000e+00, 3.82450129e-06, ...,\n",
       "        0.00000000e+00, 0.00000000e+00, 8.86070951e-07],\n",
       "       [0.00000000e+00, 0.00000000e+00, 4.20695141e-05, ...,\n",
       "        0.00000000e+00, 0.00000000e+00, 3.03012547e-04],\n",
       "       [0.00000000e+00, 0.00000000e+00, 7.64900257e-06, ...,\n",
       "        0.00000000e+00, 0.00000000e+00, 1.77214897e-06]])"
      ]
     },
     "execution_count": 48,
     "metadata": {},
     "output_type": "execute_result"
    }
   ],
   "source": [
    "# Normalize the engagement data\n",
    "normalized_experience_data = enagagement_utils.normalize_data(df=experience_data.drop('MSISDN/Number', axis=1))\n",
    "normalized_experience_data"
   ]
  },
  {
   "cell_type": "code",
   "execution_count": 49,
   "metadata": {},
   "outputs": [
    {
     "data": {
      "text/plain": [
       "[np.float64(0.9363001302537535),\n",
       " np.float64(0.9307290442619912),\n",
       " np.float64(0.9146166322853239),\n",
       " np.float64(0.980498977259134),\n",
       " np.float64(1.205052122497646),\n",
       " np.float64(0.9554830876965453),\n",
       " np.float64(1.1023467351806369),\n",
       " np.float64(0.9589607504038022),\n",
       " np.float64(0.916570694573792),\n",
       " np.float64(0.949172177127797)]"
      ]
     },
     "execution_count": 49,
     "metadata": {},
     "output_type": "execute_result"
    }
   ],
   "source": [
    "# Calculate engagement score for each user\n",
    "experience_scores = []\n",
    "for user_data in normalized_experience_data:\n",
    "    score = satisfaction_utils.euclidean_distance(data=user_data,\n",
    "                                                  centroid=worst_experience_centroid)\n",
    "    experience_scores.append(score)\n",
    "\n",
    "experience_scores[:10]"
   ]
  },
  {
   "cell_type": "code",
   "execution_count": 50,
   "metadata": {},
   "outputs": [
    {
     "data": {
      "text/html": [
       "<div>\n",
       "<style scoped>\n",
       "    .dataframe tbody tr th:only-of-type {\n",
       "        vertical-align: middle;\n",
       "    }\n",
       "\n",
       "    .dataframe tbody tr th {\n",
       "        vertical-align: top;\n",
       "    }\n",
       "\n",
       "    .dataframe thead th {\n",
       "        text-align: right;\n",
       "    }\n",
       "</style>\n",
       "<table border=\"1\" class=\"dataframe\">\n",
       "  <thead>\n",
       "    <tr style=\"text-align: right;\">\n",
       "      <th></th>\n",
       "      <th>MSISDN/Number</th>\n",
       "      <th>Avg RTT DL (ms)</th>\n",
       "      <th>Avg RTT UL (ms)</th>\n",
       "      <th>Avg Bearer TP DL (kbps)</th>\n",
       "      <th>Avg Bearer TP UL (kbps)</th>\n",
       "      <th>TCP DL Retrans. Vol (Bytes)</th>\n",
       "      <th>TCP UL Retrans. Vol (Bytes)</th>\n",
       "      <th>Experience Score</th>\n",
       "    </tr>\n",
       "  </thead>\n",
       "  <tbody>\n",
       "    <tr>\n",
       "      <th>0</th>\n",
       "      <td>3.360100e+10</td>\n",
       "      <td>46.0</td>\n",
       "      <td>0.0</td>\n",
       "      <td>37.0</td>\n",
       "      <td>39.0</td>\n",
       "      <td>0.0</td>\n",
       "      <td>0.0</td>\n",
       "      <td>0.936300</td>\n",
       "    </tr>\n",
       "    <tr>\n",
       "      <th>1</th>\n",
       "      <td>3.360100e+10</td>\n",
       "      <td>30.0</td>\n",
       "      <td>1.0</td>\n",
       "      <td>48.0</td>\n",
       "      <td>51.0</td>\n",
       "      <td>0.0</td>\n",
       "      <td>0.0</td>\n",
       "      <td>0.930729</td>\n",
       "    </tr>\n",
       "    <tr>\n",
       "      <th>2</th>\n",
       "      <td>3.360100e+10</td>\n",
       "      <td>0.0</td>\n",
       "      <td>0.0</td>\n",
       "      <td>48.0</td>\n",
       "      <td>49.0</td>\n",
       "      <td>0.0</td>\n",
       "      <td>0.0</td>\n",
       "      <td>0.914617</td>\n",
       "    </tr>\n",
       "    <tr>\n",
       "      <th>3</th>\n",
       "      <td>3.360101e+10</td>\n",
       "      <td>69.0</td>\n",
       "      <td>15.0</td>\n",
       "      <td>204.0</td>\n",
       "      <td>44.0</td>\n",
       "      <td>1066.0</td>\n",
       "      <td>0.0</td>\n",
       "      <td>0.980499</td>\n",
       "    </tr>\n",
       "    <tr>\n",
       "      <th>4</th>\n",
       "      <td>3.360101e+10</td>\n",
       "      <td>114.0</td>\n",
       "      <td>5.0</td>\n",
       "      <td>40395.0</td>\n",
       "      <td>103.0</td>\n",
       "      <td>9349630.0</td>\n",
       "      <td>21202.0</td>\n",
       "      <td>1.205052</td>\n",
       "    </tr>\n",
       "  </tbody>\n",
       "</table>\n",
       "</div>"
      ],
      "text/plain": [
       "   MSISDN/Number  Avg RTT DL (ms)  Avg RTT UL (ms)  Avg Bearer TP DL (kbps)  \\\n",
       "0   3.360100e+10             46.0              0.0                     37.0   \n",
       "1   3.360100e+10             30.0              1.0                     48.0   \n",
       "2   3.360100e+10              0.0              0.0                     48.0   \n",
       "3   3.360101e+10             69.0             15.0                    204.0   \n",
       "4   3.360101e+10            114.0              5.0                  40395.0   \n",
       "\n",
       "   Avg Bearer TP UL (kbps)  TCP DL Retrans. Vol (Bytes)  \\\n",
       "0                     39.0                          0.0   \n",
       "1                     51.0                          0.0   \n",
       "2                     49.0                          0.0   \n",
       "3                     44.0                       1066.0   \n",
       "4                    103.0                    9349630.0   \n",
       "\n",
       "   TCP UL Retrans. Vol (Bytes)  Experience Score  \n",
       "0                          0.0          0.936300  \n",
       "1                          0.0          0.930729  \n",
       "2                          0.0          0.914617  \n",
       "3                          0.0          0.980499  \n",
       "4                      21202.0          1.205052  "
      ]
     },
     "execution_count": 50,
     "metadata": {},
     "output_type": "execute_result"
    }
   ],
   "source": [
    "# Add the scores to the engagement dataframe\n",
    "experience_data['Experience Score'] = experience_scores\n",
    "experience_data.head()"
   ]
  },
  {
   "cell_type": "markdown",
   "metadata": {},
   "source": [
    "### Merge engagement and experience datasets"
   ]
  },
  {
   "cell_type": "code",
   "execution_count": 51,
   "metadata": {},
   "outputs": [
    {
     "data": {
      "text/html": [
       "<div>\n",
       "<style scoped>\n",
       "    .dataframe tbody tr th:only-of-type {\n",
       "        vertical-align: middle;\n",
       "    }\n",
       "\n",
       "    .dataframe tbody tr th {\n",
       "        vertical-align: top;\n",
       "    }\n",
       "\n",
       "    .dataframe thead th {\n",
       "        text-align: right;\n",
       "    }\n",
       "</style>\n",
       "<table border=\"1\" class=\"dataframe\">\n",
       "  <thead>\n",
       "    <tr style=\"text-align: right;\">\n",
       "      <th></th>\n",
       "      <th>MSISDN/Number</th>\n",
       "      <th>Engagement Score</th>\n",
       "      <th>Experience Score</th>\n",
       "    </tr>\n",
       "  </thead>\n",
       "  <tbody>\n",
       "    <tr>\n",
       "      <th>0</th>\n",
       "      <td>3.360100e+10</td>\n",
       "      <td>0.898944</td>\n",
       "      <td>0.936300</td>\n",
       "    </tr>\n",
       "    <tr>\n",
       "      <th>1</th>\n",
       "      <td>3.360100e+10</td>\n",
       "      <td>0.840000</td>\n",
       "      <td>0.930729</td>\n",
       "    </tr>\n",
       "    <tr>\n",
       "      <th>2</th>\n",
       "      <td>3.360100e+10</td>\n",
       "      <td>0.874915</td>\n",
       "      <td>0.914617</td>\n",
       "    </tr>\n",
       "    <tr>\n",
       "      <th>3</th>\n",
       "      <td>3.360101e+10</td>\n",
       "      <td>0.858680</td>\n",
       "      <td>0.980499</td>\n",
       "    </tr>\n",
       "    <tr>\n",
       "      <th>4</th>\n",
       "      <td>3.360101e+10</td>\n",
       "      <td>0.992990</td>\n",
       "      <td>1.205052</td>\n",
       "    </tr>\n",
       "  </tbody>\n",
       "</table>\n",
       "</div>"
      ],
      "text/plain": [
       "   MSISDN/Number  Engagement Score  Experience Score\n",
       "0   3.360100e+10          0.898944          0.936300\n",
       "1   3.360100e+10          0.840000          0.930729\n",
       "2   3.360100e+10          0.874915          0.914617\n",
       "3   3.360101e+10          0.858680          0.980499\n",
       "4   3.360101e+10          0.992990          1.205052"
      ]
     },
     "execution_count": 51,
     "metadata": {},
     "output_type": "execute_result"
    }
   ],
   "source": [
    "satisfaction_data = pd.merge(engagement_data[['MSISDN/Number', 'Engagement Score']],\n",
    "                             experience_data[['MSISDN/Number', 'Experience Score']],\n",
    "                             on='MSISDN/Number')\n",
    "satisfaction_data.head()"
   ]
  },
  {
   "cell_type": "code",
   "execution_count": 52,
   "metadata": {},
   "outputs": [
    {
     "data": {
      "text/html": [
       "<div>\n",
       "<style scoped>\n",
       "    .dataframe tbody tr th:only-of-type {\n",
       "        vertical-align: middle;\n",
       "    }\n",
       "\n",
       "    .dataframe tbody tr th {\n",
       "        vertical-align: top;\n",
       "    }\n",
       "\n",
       "    .dataframe thead th {\n",
       "        text-align: right;\n",
       "    }\n",
       "</style>\n",
       "<table border=\"1\" class=\"dataframe\">\n",
       "  <thead>\n",
       "    <tr style=\"text-align: right;\">\n",
       "      <th></th>\n",
       "      <th>MSISDN/Number</th>\n",
       "      <th>Engagement Score</th>\n",
       "      <th>Experience Score</th>\n",
       "      <th>Satisfaction Score</th>\n",
       "    </tr>\n",
       "  </thead>\n",
       "  <tbody>\n",
       "    <tr>\n",
       "      <th>0</th>\n",
       "      <td>3.360100e+10</td>\n",
       "      <td>0.898944</td>\n",
       "      <td>0.936300</td>\n",
       "      <td>0.917622</td>\n",
       "    </tr>\n",
       "    <tr>\n",
       "      <th>1</th>\n",
       "      <td>3.360100e+10</td>\n",
       "      <td>0.840000</td>\n",
       "      <td>0.930729</td>\n",
       "      <td>0.885364</td>\n",
       "    </tr>\n",
       "    <tr>\n",
       "      <th>2</th>\n",
       "      <td>3.360100e+10</td>\n",
       "      <td>0.874915</td>\n",
       "      <td>0.914617</td>\n",
       "      <td>0.894766</td>\n",
       "    </tr>\n",
       "    <tr>\n",
       "      <th>3</th>\n",
       "      <td>3.360101e+10</td>\n",
       "      <td>0.858680</td>\n",
       "      <td>0.980499</td>\n",
       "      <td>0.919589</td>\n",
       "    </tr>\n",
       "    <tr>\n",
       "      <th>4</th>\n",
       "      <td>3.360101e+10</td>\n",
       "      <td>0.992990</td>\n",
       "      <td>1.205052</td>\n",
       "      <td>1.099021</td>\n",
       "    </tr>\n",
       "  </tbody>\n",
       "</table>\n",
       "</div>"
      ],
      "text/plain": [
       "   MSISDN/Number  Engagement Score  Experience Score  Satisfaction Score\n",
       "0   3.360100e+10          0.898944          0.936300            0.917622\n",
       "1   3.360100e+10          0.840000          0.930729            0.885364\n",
       "2   3.360100e+10          0.874915          0.914617            0.894766\n",
       "3   3.360101e+10          0.858680          0.980499            0.919589\n",
       "4   3.360101e+10          0.992990          1.205052            1.099021"
      ]
     },
     "execution_count": 52,
     "metadata": {},
     "output_type": "execute_result"
    }
   ],
   "source": [
    "# Calculate the satisfaction score\n",
    "# The average of engagement and experience scores\n",
    "satisfaction_data['Satisfaction Score'] = satisfaction_data[['Engagement Score', 'Experience Score']].mean(axis=1)\n",
    "satisfaction_data.head()\n"
   ]
  },
  {
   "cell_type": "markdown",
   "metadata": {},
   "source": [
    "### Top 10 satisfied customers"
   ]
  },
  {
   "cell_type": "code",
   "execution_count": 53,
   "metadata": {},
   "outputs": [
    {
     "data": {
      "text/html": [
       "<div>\n",
       "<style scoped>\n",
       "    .dataframe tbody tr th:only-of-type {\n",
       "        vertical-align: middle;\n",
       "    }\n",
       "\n",
       "    .dataframe tbody tr th {\n",
       "        vertical-align: top;\n",
       "    }\n",
       "\n",
       "    .dataframe thead th {\n",
       "        text-align: right;\n",
       "    }\n",
       "</style>\n",
       "<table border=\"1\" class=\"dataframe\">\n",
       "  <thead>\n",
       "    <tr style=\"text-align: right;\">\n",
       "      <th></th>\n",
       "      <th>MSISDN/Number</th>\n",
       "      <th>Engagement Score</th>\n",
       "      <th>Experience Score</th>\n",
       "      <th>Satisfaction Score</th>\n",
       "    </tr>\n",
       "  </thead>\n",
       "  <tbody>\n",
       "    <tr>\n",
       "      <th>76363</th>\n",
       "      <td>3.367588e+10</td>\n",
       "      <td>2.229469</td>\n",
       "      <td>2.774865</td>\n",
       "      <td>2.502167</td>\n",
       "    </tr>\n",
       "    <tr>\n",
       "      <th>37470</th>\n",
       "      <td>3.365982e+10</td>\n",
       "      <td>1.614316</td>\n",
       "      <td>3.155061</td>\n",
       "      <td>2.384688</td>\n",
       "    </tr>\n",
       "    <tr>\n",
       "      <th>1279</th>\n",
       "      <td>3.360452e+10</td>\n",
       "      <td>1.889976</td>\n",
       "      <td>2.823726</td>\n",
       "      <td>2.356851</td>\n",
       "    </tr>\n",
       "    <tr>\n",
       "      <th>37052</th>\n",
       "      <td>3.365973e+10</td>\n",
       "      <td>2.244949</td>\n",
       "      <td>2.407587</td>\n",
       "      <td>2.326268</td>\n",
       "    </tr>\n",
       "    <tr>\n",
       "      <th>6437</th>\n",
       "      <td>3.361489e+10</td>\n",
       "      <td>2.501814</td>\n",
       "      <td>2.105876</td>\n",
       "      <td>2.303845</td>\n",
       "    </tr>\n",
       "    <tr>\n",
       "      <th>13180</th>\n",
       "      <td>3.362578e+10</td>\n",
       "      <td>2.716584</td>\n",
       "      <td>1.804829</td>\n",
       "      <td>2.260706</td>\n",
       "    </tr>\n",
       "    <tr>\n",
       "      <th>39120</th>\n",
       "      <td>3.366021e+10</td>\n",
       "      <td>1.655723</td>\n",
       "      <td>2.622603</td>\n",
       "      <td>2.139163</td>\n",
       "    </tr>\n",
       "    <tr>\n",
       "      <th>666</th>\n",
       "      <td>3.360313e+10</td>\n",
       "      <td>1.870669</td>\n",
       "      <td>2.371909</td>\n",
       "      <td>2.121289</td>\n",
       "    </tr>\n",
       "    <tr>\n",
       "      <th>13526</th>\n",
       "      <td>3.362632e+10</td>\n",
       "      <td>2.445291</td>\n",
       "      <td>1.780977</td>\n",
       "      <td>2.113134</td>\n",
       "    </tr>\n",
       "    <tr>\n",
       "      <th>92577</th>\n",
       "      <td>3.376041e+10</td>\n",
       "      <td>2.038283</td>\n",
       "      <td>2.080286</td>\n",
       "      <td>2.059284</td>\n",
       "    </tr>\n",
       "  </tbody>\n",
       "</table>\n",
       "</div>"
      ],
      "text/plain": [
       "       MSISDN/Number  Engagement Score  Experience Score  Satisfaction Score\n",
       "76363   3.367588e+10          2.229469          2.774865            2.502167\n",
       "37470   3.365982e+10          1.614316          3.155061            2.384688\n",
       "1279    3.360452e+10          1.889976          2.823726            2.356851\n",
       "37052   3.365973e+10          2.244949          2.407587            2.326268\n",
       "6437    3.361489e+10          2.501814          2.105876            2.303845\n",
       "13180   3.362578e+10          2.716584          1.804829            2.260706\n",
       "39120   3.366021e+10          1.655723          2.622603            2.139163\n",
       "666     3.360313e+10          1.870669          2.371909            2.121289\n",
       "13526   3.362632e+10          2.445291          1.780977            2.113134\n",
       "92577   3.376041e+10          2.038283          2.080286            2.059284"
      ]
     },
     "execution_count": 53,
     "metadata": {},
     "output_type": "execute_result"
    }
   ],
   "source": [
    "# Sort by satisfaction score and get the top 10\n",
    "top_10_satisfied = satisfaction_data.sort_values(by='Satisfaction Score', ascending=False).head(10)\n",
    "top_10_satisfied"
   ]
  }
 ],
 "metadata": {
  "kernelspec": {
   "display_name": "venv",
   "language": "python",
   "name": "python3"
  },
  "language_info": {
   "codemirror_mode": {
    "name": "ipython",
    "version": 3
   },
   "file_extension": ".py",
   "mimetype": "text/x-python",
   "name": "python",
   "nbconvert_exporter": "python",
   "pygments_lexer": "ipython3",
   "version": "3.12.3"
  }
 },
 "nbformat": 4,
 "nbformat_minor": 2
}
