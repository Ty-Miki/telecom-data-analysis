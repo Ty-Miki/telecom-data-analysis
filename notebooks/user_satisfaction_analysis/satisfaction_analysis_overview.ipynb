{
 "cells": [
  {
   "cell_type": "code",
   "execution_count": 1,
   "metadata": {},
   "outputs": [
    {
     "data": {
      "text/plain": [
       "['c:\\\\Users\\\\mekbi\\\\Desktop\\\\Kifiya\\\\week-2\\\\telecom-data-analysis',\n",
       " 'C:\\\\Users\\\\mekbi\\\\AppData\\\\Local\\\\Programs\\\\Python\\\\Python312\\\\python312.zip',\n",
       " 'C:\\\\Users\\\\mekbi\\\\AppData\\\\Local\\\\Programs\\\\Python\\\\Python312\\\\DLLs',\n",
       " 'C:\\\\Users\\\\mekbi\\\\AppData\\\\Local\\\\Programs\\\\Python\\\\Python312\\\\Lib',\n",
       " 'C:\\\\Users\\\\mekbi\\\\AppData\\\\Local\\\\Programs\\\\Python\\\\Python312',\n",
       " 'c:\\\\Users\\\\mekbi\\\\Desktop\\\\Kifiya\\\\week-2\\\\telecom-data-analysis\\\\venv',\n",
       " '',\n",
       " 'c:\\\\Users\\\\mekbi\\\\Desktop\\\\Kifiya\\\\week-2\\\\telecom-data-analysis\\\\venv\\\\Lib\\\\site-packages',\n",
       " 'c:\\\\Users\\\\mekbi\\\\Desktop\\\\Kifiya\\\\week-2\\\\telecom-data-analysis\\\\venv\\\\Lib\\\\site-packages\\\\win32',\n",
       " 'c:\\\\Users\\\\mekbi\\\\Desktop\\\\Kifiya\\\\week-2\\\\telecom-data-analysis\\\\venv\\\\Lib\\\\site-packages\\\\win32\\\\lib',\n",
       " 'c:\\\\Users\\\\mekbi\\\\Desktop\\\\Kifiya\\\\week-2\\\\telecom-data-analysis\\\\venv\\\\Lib\\\\site-packages\\\\Pythonwin']"
      ]
     },
     "execution_count": 1,
     "metadata": {},
     "output_type": "execute_result"
    }
   ],
   "source": [
    "# Add the parent directory to sys.path\n",
    "import sys, os\n",
    "from pathlib import Path\n",
    "\n",
    "current_directory = os.getcwd()\n",
    "parent_directory = Path(current_directory).parent.parent\n",
    "sys.path.insert(0, str(parent_directory))\n",
    "sys.path"
   ]
  },
  {
   "cell_type": "markdown",
   "metadata": {},
   "source": [
    "### Load engagement and experience data"
   ]
  },
  {
   "cell_type": "code",
   "execution_count": 2,
   "metadata": {},
   "outputs": [
    {
     "data": {
      "text/html": [
       "<div>\n",
       "<style scoped>\n",
       "    .dataframe tbody tr th:only-of-type {\n",
       "        vertical-align: middle;\n",
       "    }\n",
       "\n",
       "    .dataframe tbody tr th {\n",
       "        vertical-align: top;\n",
       "    }\n",
       "\n",
       "    .dataframe thead th {\n",
       "        text-align: right;\n",
       "    }\n",
       "</style>\n",
       "<table border=\"1\" class=\"dataframe\">\n",
       "  <thead>\n",
       "    <tr style=\"text-align: right;\">\n",
       "      <th></th>\n",
       "      <th>MSISDN/Number</th>\n",
       "      <th>Session Dur. (ms)</th>\n",
       "      <th>Session Frequency</th>\n",
       "      <th>Total Data (Bytes)</th>\n",
       "    </tr>\n",
       "  </thead>\n",
       "  <tbody>\n",
       "    <tr>\n",
       "      <th>0</th>\n",
       "      <td>3.360100e+10</td>\n",
       "      <td>116720.0</td>\n",
       "      <td>1</td>\n",
       "      <td>8.786906e+08</td>\n",
       "    </tr>\n",
       "    <tr>\n",
       "      <th>1</th>\n",
       "      <td>3.360100e+10</td>\n",
       "      <td>181230.0</td>\n",
       "      <td>1</td>\n",
       "      <td>1.568596e+08</td>\n",
       "    </tr>\n",
       "    <tr>\n",
       "      <th>2</th>\n",
       "      <td>3.360100e+10</td>\n",
       "      <td>134969.0</td>\n",
       "      <td>1</td>\n",
       "      <td>5.959665e+08</td>\n",
       "    </tr>\n",
       "    <tr>\n",
       "      <th>3</th>\n",
       "      <td>3.360101e+10</td>\n",
       "      <td>49878.0</td>\n",
       "      <td>1</td>\n",
       "      <td>4.223207e+08</td>\n",
       "    </tr>\n",
       "    <tr>\n",
       "      <th>4</th>\n",
       "      <td>3.360101e+10</td>\n",
       "      <td>37104.0</td>\n",
       "      <td>2</td>\n",
       "      <td>1.457411e+09</td>\n",
       "    </tr>\n",
       "  </tbody>\n",
       "</table>\n",
       "</div>"
      ],
      "text/plain": [
       "   MSISDN/Number  Session Dur. (ms)  Session Frequency  Total Data (Bytes)\n",
       "0   3.360100e+10           116720.0                  1        8.786906e+08\n",
       "1   3.360100e+10           181230.0                  1        1.568596e+08\n",
       "2   3.360100e+10           134969.0                  1        5.959665e+08\n",
       "3   3.360101e+10            49878.0                  1        4.223207e+08\n",
       "4   3.360101e+10            37104.0                  2        1.457411e+09"
      ]
     },
     "execution_count": 2,
     "metadata": {},
     "output_type": "execute_result"
    }
   ],
   "source": [
    "# Load engagement data\n",
    "import pandas as pd\n",
    "\n",
    "engagement_picke_path = f'{str(parent_directory)}/notebooks/user_engagement_analysis/engagement_data.pkl'\n",
    "engagement_data = pd.read_pickle(engagement_picke_path)\n",
    "engagement_data.head()"
   ]
  },
  {
   "cell_type": "code",
   "execution_count": 3,
   "metadata": {},
   "outputs": [
    {
     "data": {
      "text/html": [
       "<div>\n",
       "<style scoped>\n",
       "    .dataframe tbody tr th:only-of-type {\n",
       "        vertical-align: middle;\n",
       "    }\n",
       "\n",
       "    .dataframe tbody tr th {\n",
       "        vertical-align: top;\n",
       "    }\n",
       "\n",
       "    .dataframe thead th {\n",
       "        text-align: right;\n",
       "    }\n",
       "</style>\n",
       "<table border=\"1\" class=\"dataframe\">\n",
       "  <thead>\n",
       "    <tr style=\"text-align: right;\">\n",
       "      <th></th>\n",
       "      <th>MSISDN/Number</th>\n",
       "      <th>Avg RTT DL (ms)</th>\n",
       "      <th>Avg RTT UL (ms)</th>\n",
       "      <th>Avg Bearer TP DL (kbps)</th>\n",
       "      <th>Avg Bearer TP UL (kbps)</th>\n",
       "      <th>TCP DL Retrans. Vol (Bytes)</th>\n",
       "      <th>TCP UL Retrans. Vol (Bytes)</th>\n",
       "      <th>Handset Type</th>\n",
       "    </tr>\n",
       "  </thead>\n",
       "  <tbody>\n",
       "    <tr>\n",
       "      <th>0</th>\n",
       "      <td>3.360100e+10</td>\n",
       "      <td>46.0</td>\n",
       "      <td>0.0</td>\n",
       "      <td>37.0</td>\n",
       "      <td>39.0</td>\n",
       "      <td>0.0</td>\n",
       "      <td>0.0</td>\n",
       "      <td>Huawei P20 Lite Huawei Nova 3E</td>\n",
       "    </tr>\n",
       "    <tr>\n",
       "      <th>1</th>\n",
       "      <td>3.360100e+10</td>\n",
       "      <td>30.0</td>\n",
       "      <td>1.0</td>\n",
       "      <td>48.0</td>\n",
       "      <td>51.0</td>\n",
       "      <td>0.0</td>\n",
       "      <td>0.0</td>\n",
       "      <td>Apple iPhone 7 (A1778)</td>\n",
       "    </tr>\n",
       "    <tr>\n",
       "      <th>2</th>\n",
       "      <td>3.360100e+10</td>\n",
       "      <td>0.0</td>\n",
       "      <td>0.0</td>\n",
       "      <td>48.0</td>\n",
       "      <td>49.0</td>\n",
       "      <td>0.0</td>\n",
       "      <td>0.0</td>\n",
       "      <td>undefined</td>\n",
       "    </tr>\n",
       "    <tr>\n",
       "      <th>3</th>\n",
       "      <td>3.360101e+10</td>\n",
       "      <td>69.0</td>\n",
       "      <td>15.0</td>\n",
       "      <td>204.0</td>\n",
       "      <td>44.0</td>\n",
       "      <td>1066.0</td>\n",
       "      <td>0.0</td>\n",
       "      <td>Apple iPhone 5S (A1457)</td>\n",
       "    </tr>\n",
       "    <tr>\n",
       "      <th>4</th>\n",
       "      <td>3.360101e+10</td>\n",
       "      <td>114.0</td>\n",
       "      <td>5.0</td>\n",
       "      <td>40395.0</td>\n",
       "      <td>103.0</td>\n",
       "      <td>9349630.0</td>\n",
       "      <td>21202.0</td>\n",
       "      <td>Apple iPhone Se (A1723)</td>\n",
       "    </tr>\n",
       "  </tbody>\n",
       "</table>\n",
       "</div>"
      ],
      "text/plain": [
       "   MSISDN/Number  Avg RTT DL (ms)  Avg RTT UL (ms)  Avg Bearer TP DL (kbps)  \\\n",
       "0   3.360100e+10             46.0              0.0                     37.0   \n",
       "1   3.360100e+10             30.0              1.0                     48.0   \n",
       "2   3.360100e+10              0.0              0.0                     48.0   \n",
       "3   3.360101e+10             69.0             15.0                    204.0   \n",
       "4   3.360101e+10            114.0              5.0                  40395.0   \n",
       "\n",
       "   Avg Bearer TP UL (kbps)  TCP DL Retrans. Vol (Bytes)  \\\n",
       "0                     39.0                          0.0   \n",
       "1                     51.0                          0.0   \n",
       "2                     49.0                          0.0   \n",
       "3                     44.0                       1066.0   \n",
       "4                    103.0                    9349630.0   \n",
       "\n",
       "   TCP UL Retrans. Vol (Bytes)                    Handset Type  \n",
       "0                          0.0  Huawei P20 Lite Huawei Nova 3E  \n",
       "1                          0.0          Apple iPhone 7 (A1778)  \n",
       "2                          0.0                       undefined  \n",
       "3                          0.0         Apple iPhone 5S (A1457)  \n",
       "4                      21202.0         Apple iPhone Se (A1723)  "
      ]
     },
     "execution_count": 3,
     "metadata": {},
     "output_type": "execute_result"
    }
   ],
   "source": [
    "# Load experience data\n",
    "experience_pickle_path = f'{str(parent_directory)}/notebooks/user_experience_analysis/experience_data.pkl'\n",
    "experience_data = pd.read_pickle(experience_pickle_path)\n",
    "experience_data.head()"
   ]
  },
  {
   "cell_type": "code",
   "execution_count": 4,
   "metadata": {},
   "outputs": [
    {
     "data": {
      "text/plain": [
       "Index(['MSISDN/Number', 'Avg RTT DL (ms)', 'Avg RTT UL (ms)',\n",
       "       'Avg Bearer TP DL (kbps)', 'Avg Bearer TP UL (kbps)',\n",
       "       'TCP DL Retrans. Vol (Bytes)', 'TCP UL Retrans. Vol (Bytes)'],\n",
       "      dtype='object')"
      ]
     },
     "execution_count": 4,
     "metadata": {},
     "output_type": "execute_result"
    }
   ],
   "source": [
    "experience_data = experience_data.drop('Handset Type', axis=1)\n",
    "experience_data.columns"
   ]
  },
  {
   "cell_type": "markdown",
   "metadata": {},
   "source": [
    "### Assign scores to each dataset"
   ]
  },
  {
   "cell_type": "markdown",
   "metadata": {},
   "source": [
    "##### Assign scores to engagement data using Euclidean Distance"
   ]
  },
  {
   "cell_type": "code",
   "execution_count": 5,
   "metadata": {},
   "outputs": [
    {
     "name": "stderr",
     "output_type": "stream",
     "text": [
      "INFO:scripts.satisfaction_utils:Data normalization successful\n",
      "INFO:scripts.satisfaction_utils:KMeans clustering successful\n",
      "INFO:scripts.satisfaction_utils:Centroids calculated for 3 clusters\n"
     ]
    },
    {
     "data": {
      "text/plain": [
       "array([[ 2.73387952,  3.71325469,  3.24708014],\n",
       "       [-0.23130937, -0.45376432, -0.39897854],\n",
       "       [ 0.36878701,  0.97567411,  0.86060373]])"
      ]
     },
     "execution_count": 5,
     "metadata": {},
     "output_type": "execute_result"
    }
   ],
   "source": [
    "# Get the centroids\n",
    "from scripts import satisfaction_utils\n",
    "\n",
    "engagement_centroids = satisfaction_utils.calculate_centroids(df=engagement_data.drop('MSISDN/Number', axis=1))\n",
    "engagement_centroids"
   ]
  },
  {
   "cell_type": "code",
   "execution_count": 6,
   "metadata": {},
   "outputs": [
    {
     "data": {
      "text/plain": [
       "array([-0.23130937, -0.45376432, -0.39897854])"
      ]
     },
     "execution_count": 6,
     "metadata": {},
     "output_type": "execute_result"
    }
   ],
   "source": [
    "# Get the least engaged clusters centroid\n",
    "least_engaged_centroid = engagement_centroids[1]\n",
    "least_engaged_centroid"
   ]
  },
  {
   "cell_type": "code",
   "execution_count": 7,
   "metadata": {},
   "outputs": [
    {
     "data": {
      "text/plain": [
       "array([[0.00590825, 0.05555556, 0.09593143],\n",
       "       [0.00938651, 0.05555556, 0.01402598],\n",
       "       [0.0068922 , 0.05555556, 0.06385101],\n",
       "       ...,\n",
       "       [0.04692194, 0.05555556, 0.02256615],\n",
       "       [0.01325784, 0.05555556, 0.06388747],\n",
       "       [0.04651534, 0.05555556, 0.0120169 ]])"
      ]
     },
     "execution_count": 7,
     "metadata": {},
     "output_type": "execute_result"
    }
   ],
   "source": [
    "# Normalize the engagement data\n",
    "from scripts import enagagement_utils\n",
    "\n",
    "normalized_engagement_data = enagagement_utils.normalize_data(df=engagement_data.drop('MSISDN/Number', axis=1))\n",
    "normalized_engagement_data"
   ]
  },
  {
   "cell_type": "code",
   "execution_count": 8,
   "metadata": {},
   "outputs": [
    {
     "data": {
      "text/plain": [
       "[np.float64(0.7487421574482148),\n",
       " np.float64(0.6985083949476356),\n",
       " np.float64(0.7282567643519451),\n",
       " np.float64(0.7143828277907733),\n",
       " np.float64(0.829207218440659),\n",
       " np.float64(0.7714664256227064),\n",
       " np.float64(0.7720632502592477),\n",
       " np.float64(0.7087692185419597),\n",
       " np.float64(0.8019232208420178),\n",
       " np.float64(0.7380210571261697)]"
      ]
     },
     "execution_count": 8,
     "metadata": {},
     "output_type": "execute_result"
    }
   ],
   "source": [
    "# Calculate engagement score for each user\n",
    "engagement_scores = []\n",
    "for user_data in normalized_engagement_data:\n",
    "    score = satisfaction_utils.euclidean_distance(data=user_data,\n",
    "                                                  centroid=least_engaged_centroid)\n",
    "    engagement_scores.append(score)\n",
    "\n",
    "engagement_scores[:10]"
   ]
  },
  {
   "cell_type": "code",
   "execution_count": 9,
   "metadata": {},
   "outputs": [
    {
     "data": {
      "text/html": [
       "<div>\n",
       "<style scoped>\n",
       "    .dataframe tbody tr th:only-of-type {\n",
       "        vertical-align: middle;\n",
       "    }\n",
       "\n",
       "    .dataframe tbody tr th {\n",
       "        vertical-align: top;\n",
       "    }\n",
       "\n",
       "    .dataframe thead th {\n",
       "        text-align: right;\n",
       "    }\n",
       "</style>\n",
       "<table border=\"1\" class=\"dataframe\">\n",
       "  <thead>\n",
       "    <tr style=\"text-align: right;\">\n",
       "      <th></th>\n",
       "      <th>MSISDN/Number</th>\n",
       "      <th>Session Dur. (ms)</th>\n",
       "      <th>Session Frequency</th>\n",
       "      <th>Total Data (Bytes)</th>\n",
       "      <th>Engagement Score</th>\n",
       "    </tr>\n",
       "  </thead>\n",
       "  <tbody>\n",
       "    <tr>\n",
       "      <th>0</th>\n",
       "      <td>3.360100e+10</td>\n",
       "      <td>116720.0</td>\n",
       "      <td>1</td>\n",
       "      <td>8.786906e+08</td>\n",
       "      <td>0.748742</td>\n",
       "    </tr>\n",
       "    <tr>\n",
       "      <th>1</th>\n",
       "      <td>3.360100e+10</td>\n",
       "      <td>181230.0</td>\n",
       "      <td>1</td>\n",
       "      <td>1.568596e+08</td>\n",
       "      <td>0.698508</td>\n",
       "    </tr>\n",
       "    <tr>\n",
       "      <th>2</th>\n",
       "      <td>3.360100e+10</td>\n",
       "      <td>134969.0</td>\n",
       "      <td>1</td>\n",
       "      <td>5.959665e+08</td>\n",
       "      <td>0.728257</td>\n",
       "    </tr>\n",
       "    <tr>\n",
       "      <th>3</th>\n",
       "      <td>3.360101e+10</td>\n",
       "      <td>49878.0</td>\n",
       "      <td>1</td>\n",
       "      <td>4.223207e+08</td>\n",
       "      <td>0.714383</td>\n",
       "    </tr>\n",
       "    <tr>\n",
       "      <th>4</th>\n",
       "      <td>3.360101e+10</td>\n",
       "      <td>37104.0</td>\n",
       "      <td>2</td>\n",
       "      <td>1.457411e+09</td>\n",
       "      <td>0.829207</td>\n",
       "    </tr>\n",
       "  </tbody>\n",
       "</table>\n",
       "</div>"
      ],
      "text/plain": [
       "   MSISDN/Number  Session Dur. (ms)  Session Frequency  Total Data (Bytes)  \\\n",
       "0   3.360100e+10           116720.0                  1        8.786906e+08   \n",
       "1   3.360100e+10           181230.0                  1        1.568596e+08   \n",
       "2   3.360100e+10           134969.0                  1        5.959665e+08   \n",
       "3   3.360101e+10            49878.0                  1        4.223207e+08   \n",
       "4   3.360101e+10            37104.0                  2        1.457411e+09   \n",
       "\n",
       "   Engagement Score  \n",
       "0          0.748742  \n",
       "1          0.698508  \n",
       "2          0.728257  \n",
       "3          0.714383  \n",
       "4          0.829207  "
      ]
     },
     "execution_count": 9,
     "metadata": {},
     "output_type": "execute_result"
    }
   ],
   "source": [
    "# Add the scores to the engagement dataframe\n",
    "engagement_data['Engagement Score'] = engagement_scores\n",
    "engagement_data.head()"
   ]
  },
  {
   "cell_type": "markdown",
   "metadata": {},
   "source": [
    "##### Assign scores to experience data using Euclidean Distance"
   ]
  },
  {
   "cell_type": "code",
   "execution_count": 10,
   "metadata": {},
   "outputs": [
    {
     "name": "stderr",
     "output_type": "stream",
     "text": [
      "INFO:scripts.satisfaction_utils:Data normalization successful\n",
      "INFO:scripts.satisfaction_utils:KMeans clustering successful\n",
      "INFO:scripts.satisfaction_utils:Centroids calculated for 3 clusters\n"
     ]
    },
    {
     "data": {
      "text/plain": [
       "array([[ 0.55240988,  0.48108072,  0.72727337,  0.74357972,  0.53753922,\n",
       "         0.59110857],\n",
       "       [-0.32026842, -0.30621465, -0.37453871, -0.35283207, -0.30681278,\n",
       "        -0.3183051 ],\n",
       "       [ 3.78480242,  4.07338297,  3.64158201,  2.8661137 ,  3.54528117,\n",
       "         3.3552507 ]])"
      ]
     },
     "execution_count": 10,
     "metadata": {},
     "output_type": "execute_result"
    }
   ],
   "source": [
    "# Get the centroids\n",
    "experience_centroids = satisfaction_utils.calculate_centroids(df=experience_data.drop('MSISDN/Number', axis=1))\n",
    "experience_centroids"
   ]
  },
  {
   "cell_type": "code",
   "execution_count": 11,
   "metadata": {},
   "outputs": [
    {
     "data": {
      "text/plain": [
       "array([-0.32026842, -0.30621465, -0.37453871, -0.35283207, -0.30681278,\n",
       "       -0.3183051 ])"
      ]
     },
     "execution_count": 11,
     "metadata": {},
     "output_type": "execute_result"
    }
   ],
   "source": [
    "# Get the least engaged clusters centroid\n",
    "worst_experience_centroid = experience_centroids[1]\n",
    "worst_experience_centroid"
   ]
  },
  {
   "cell_type": "code",
   "execution_count": 12,
   "metadata": {},
   "outputs": [
    {
     "data": {
      "text/plain": [
       "array([[4.69867211e-02, 0.00000000e+00, 1.41506548e-04, 2.41830471e-03,\n",
       "        0.00000000e+00, 0.00000000e+00],\n",
       "       [3.06435138e-02, 4.73933649e-03, 1.83576062e-04, 3.16239846e-03,\n",
       "        0.00000000e+00, 0.00000000e+00],\n",
       "       [0.00000000e+00, 0.00000000e+00, 1.83576062e-04, 3.03838284e-03,\n",
       "        0.00000000e+00, 0.00000000e+00],\n",
       "       ...,\n",
       "       [0.00000000e+00, 0.00000000e+00, 3.82450129e-06, 0.00000000e+00,\n",
       "        0.00000000e+00, 0.00000000e+00],\n",
       "       [0.00000000e+00, 0.00000000e+00, 4.20695141e-05, 1.36417189e-03,\n",
       "        0.00000000e+00, 0.00000000e+00],\n",
       "       [0.00000000e+00, 0.00000000e+00, 7.64900257e-06, 0.00000000e+00,\n",
       "        0.00000000e+00, 0.00000000e+00]])"
      ]
     },
     "execution_count": 12,
     "metadata": {},
     "output_type": "execute_result"
    }
   ],
   "source": [
    "# Normalize the engagement data\n",
    "normalized_experience_data = enagagement_utils.normalize_data(df=experience_data.drop('MSISDN/Number', axis=1))\n",
    "normalized_experience_data"
   ]
  },
  {
   "cell_type": "code",
   "execution_count": 13,
   "metadata": {},
   "outputs": [
    {
     "data": {
      "text/plain": [
       "[np.float64(0.8310740434431517),\n",
       " np.float64(0.8260948140631375),\n",
       " np.float64(0.8116970277710301),\n",
       " np.float64(0.8705176258290518),\n",
       " np.float64(1.0711577018302727),\n",
       " np.float64(0.8482672706505855),\n",
       " np.float64(0.9796244815369334),\n",
       " np.float64(0.8514857814068123),\n",
       " np.float64(0.813468419457046),\n",
       " np.float64(0.8425838091921715)]"
      ]
     },
     "execution_count": 13,
     "metadata": {},
     "output_type": "execute_result"
    }
   ],
   "source": [
    "# Calculate engagement score for each user\n",
    "experience_scores = []\n",
    "for user_data in normalized_experience_data:\n",
    "    score = satisfaction_utils.euclidean_distance(data=user_data,\n",
    "                                                  centroid=worst_experience_centroid)\n",
    "    experience_scores.append(score)\n",
    "\n",
    "experience_scores[:10]"
   ]
  },
  {
   "cell_type": "code",
   "execution_count": 14,
   "metadata": {},
   "outputs": [
    {
     "data": {
      "text/html": [
       "<div>\n",
       "<style scoped>\n",
       "    .dataframe tbody tr th:only-of-type {\n",
       "        vertical-align: middle;\n",
       "    }\n",
       "\n",
       "    .dataframe tbody tr th {\n",
       "        vertical-align: top;\n",
       "    }\n",
       "\n",
       "    .dataframe thead th {\n",
       "        text-align: right;\n",
       "    }\n",
       "</style>\n",
       "<table border=\"1\" class=\"dataframe\">\n",
       "  <thead>\n",
       "    <tr style=\"text-align: right;\">\n",
       "      <th></th>\n",
       "      <th>MSISDN/Number</th>\n",
       "      <th>Avg RTT DL (ms)</th>\n",
       "      <th>Avg RTT UL (ms)</th>\n",
       "      <th>Avg Bearer TP DL (kbps)</th>\n",
       "      <th>Avg Bearer TP UL (kbps)</th>\n",
       "      <th>TCP DL Retrans. Vol (Bytes)</th>\n",
       "      <th>TCP UL Retrans. Vol (Bytes)</th>\n",
       "      <th>Experience Score</th>\n",
       "    </tr>\n",
       "  </thead>\n",
       "  <tbody>\n",
       "    <tr>\n",
       "      <th>0</th>\n",
       "      <td>3.360100e+10</td>\n",
       "      <td>46.0</td>\n",
       "      <td>0.0</td>\n",
       "      <td>37.0</td>\n",
       "      <td>39.0</td>\n",
       "      <td>0.0</td>\n",
       "      <td>0.0</td>\n",
       "      <td>0.831074</td>\n",
       "    </tr>\n",
       "    <tr>\n",
       "      <th>1</th>\n",
       "      <td>3.360100e+10</td>\n",
       "      <td>30.0</td>\n",
       "      <td>1.0</td>\n",
       "      <td>48.0</td>\n",
       "      <td>51.0</td>\n",
       "      <td>0.0</td>\n",
       "      <td>0.0</td>\n",
       "      <td>0.826095</td>\n",
       "    </tr>\n",
       "    <tr>\n",
       "      <th>2</th>\n",
       "      <td>3.360100e+10</td>\n",
       "      <td>0.0</td>\n",
       "      <td>0.0</td>\n",
       "      <td>48.0</td>\n",
       "      <td>49.0</td>\n",
       "      <td>0.0</td>\n",
       "      <td>0.0</td>\n",
       "      <td>0.811697</td>\n",
       "    </tr>\n",
       "    <tr>\n",
       "      <th>3</th>\n",
       "      <td>3.360101e+10</td>\n",
       "      <td>69.0</td>\n",
       "      <td>15.0</td>\n",
       "      <td>204.0</td>\n",
       "      <td>44.0</td>\n",
       "      <td>1066.0</td>\n",
       "      <td>0.0</td>\n",
       "      <td>0.870518</td>\n",
       "    </tr>\n",
       "    <tr>\n",
       "      <th>4</th>\n",
       "      <td>3.360101e+10</td>\n",
       "      <td>114.0</td>\n",
       "      <td>5.0</td>\n",
       "      <td>40395.0</td>\n",
       "      <td>103.0</td>\n",
       "      <td>9349630.0</td>\n",
       "      <td>21202.0</td>\n",
       "      <td>1.071158</td>\n",
       "    </tr>\n",
       "  </tbody>\n",
       "</table>\n",
       "</div>"
      ],
      "text/plain": [
       "   MSISDN/Number  Avg RTT DL (ms)  Avg RTT UL (ms)  Avg Bearer TP DL (kbps)  \\\n",
       "0   3.360100e+10             46.0              0.0                     37.0   \n",
       "1   3.360100e+10             30.0              1.0                     48.0   \n",
       "2   3.360100e+10              0.0              0.0                     48.0   \n",
       "3   3.360101e+10             69.0             15.0                    204.0   \n",
       "4   3.360101e+10            114.0              5.0                  40395.0   \n",
       "\n",
       "   Avg Bearer TP UL (kbps)  TCP DL Retrans. Vol (Bytes)  \\\n",
       "0                     39.0                          0.0   \n",
       "1                     51.0                          0.0   \n",
       "2                     49.0                          0.0   \n",
       "3                     44.0                       1066.0   \n",
       "4                    103.0                    9349630.0   \n",
       "\n",
       "   TCP UL Retrans. Vol (Bytes)  Experience Score  \n",
       "0                          0.0          0.831074  \n",
       "1                          0.0          0.826095  \n",
       "2                          0.0          0.811697  \n",
       "3                          0.0          0.870518  \n",
       "4                      21202.0          1.071158  "
      ]
     },
     "execution_count": 14,
     "metadata": {},
     "output_type": "execute_result"
    }
   ],
   "source": [
    "# Add the scores to the engagement dataframe\n",
    "experience_data['Experience Score'] = experience_scores\n",
    "experience_data.head()"
   ]
  },
  {
   "cell_type": "markdown",
   "metadata": {},
   "source": [
    "### Merge engagement and experience datasets"
   ]
  },
  {
   "cell_type": "code",
   "execution_count": 15,
   "metadata": {},
   "outputs": [
    {
     "data": {
      "text/html": [
       "<div>\n",
       "<style scoped>\n",
       "    .dataframe tbody tr th:only-of-type {\n",
       "        vertical-align: middle;\n",
       "    }\n",
       "\n",
       "    .dataframe tbody tr th {\n",
       "        vertical-align: top;\n",
       "    }\n",
       "\n",
       "    .dataframe thead th {\n",
       "        text-align: right;\n",
       "    }\n",
       "</style>\n",
       "<table border=\"1\" class=\"dataframe\">\n",
       "  <thead>\n",
       "    <tr style=\"text-align: right;\">\n",
       "      <th></th>\n",
       "      <th>MSISDN/Number</th>\n",
       "      <th>Engagement Score</th>\n",
       "      <th>Experience Score</th>\n",
       "    </tr>\n",
       "  </thead>\n",
       "  <tbody>\n",
       "    <tr>\n",
       "      <th>0</th>\n",
       "      <td>3.360100e+10</td>\n",
       "      <td>0.748742</td>\n",
       "      <td>0.831074</td>\n",
       "    </tr>\n",
       "    <tr>\n",
       "      <th>1</th>\n",
       "      <td>3.360100e+10</td>\n",
       "      <td>0.698508</td>\n",
       "      <td>0.826095</td>\n",
       "    </tr>\n",
       "    <tr>\n",
       "      <th>2</th>\n",
       "      <td>3.360100e+10</td>\n",
       "      <td>0.728257</td>\n",
       "      <td>0.811697</td>\n",
       "    </tr>\n",
       "    <tr>\n",
       "      <th>3</th>\n",
       "      <td>3.360101e+10</td>\n",
       "      <td>0.714383</td>\n",
       "      <td>0.870518</td>\n",
       "    </tr>\n",
       "    <tr>\n",
       "      <th>4</th>\n",
       "      <td>3.360101e+10</td>\n",
       "      <td>0.829207</td>\n",
       "      <td>1.071158</td>\n",
       "    </tr>\n",
       "  </tbody>\n",
       "</table>\n",
       "</div>"
      ],
      "text/plain": [
       "   MSISDN/Number  Engagement Score  Experience Score\n",
       "0   3.360100e+10          0.748742          0.831074\n",
       "1   3.360100e+10          0.698508          0.826095\n",
       "2   3.360100e+10          0.728257          0.811697\n",
       "3   3.360101e+10          0.714383          0.870518\n",
       "4   3.360101e+10          0.829207          1.071158"
      ]
     },
     "execution_count": 15,
     "metadata": {},
     "output_type": "execute_result"
    }
   ],
   "source": [
    "satisfaction_data = pd.merge(engagement_data[['MSISDN/Number', 'Engagement Score']],\n",
    "                             experience_data[['MSISDN/Number', 'Experience Score']],\n",
    "                             on='MSISDN/Number')\n",
    "satisfaction_data.head()"
   ]
  },
  {
   "cell_type": "code",
   "execution_count": 16,
   "metadata": {},
   "outputs": [
    {
     "data": {
      "text/html": [
       "<div>\n",
       "<style scoped>\n",
       "    .dataframe tbody tr th:only-of-type {\n",
       "        vertical-align: middle;\n",
       "    }\n",
       "\n",
       "    .dataframe tbody tr th {\n",
       "        vertical-align: top;\n",
       "    }\n",
       "\n",
       "    .dataframe thead th {\n",
       "        text-align: right;\n",
       "    }\n",
       "</style>\n",
       "<table border=\"1\" class=\"dataframe\">\n",
       "  <thead>\n",
       "    <tr style=\"text-align: right;\">\n",
       "      <th></th>\n",
       "      <th>MSISDN/Number</th>\n",
       "      <th>Engagement Score</th>\n",
       "      <th>Experience Score</th>\n",
       "      <th>Satisfaction Score</th>\n",
       "    </tr>\n",
       "  </thead>\n",
       "  <tbody>\n",
       "    <tr>\n",
       "      <th>0</th>\n",
       "      <td>3.360100e+10</td>\n",
       "      <td>0.748742</td>\n",
       "      <td>0.831074</td>\n",
       "      <td>0.789908</td>\n",
       "    </tr>\n",
       "    <tr>\n",
       "      <th>1</th>\n",
       "      <td>3.360100e+10</td>\n",
       "      <td>0.698508</td>\n",
       "      <td>0.826095</td>\n",
       "      <td>0.762302</td>\n",
       "    </tr>\n",
       "    <tr>\n",
       "      <th>2</th>\n",
       "      <td>3.360100e+10</td>\n",
       "      <td>0.728257</td>\n",
       "      <td>0.811697</td>\n",
       "      <td>0.769977</td>\n",
       "    </tr>\n",
       "    <tr>\n",
       "      <th>3</th>\n",
       "      <td>3.360101e+10</td>\n",
       "      <td>0.714383</td>\n",
       "      <td>0.870518</td>\n",
       "      <td>0.792450</td>\n",
       "    </tr>\n",
       "    <tr>\n",
       "      <th>4</th>\n",
       "      <td>3.360101e+10</td>\n",
       "      <td>0.829207</td>\n",
       "      <td>1.071158</td>\n",
       "      <td>0.950182</td>\n",
       "    </tr>\n",
       "  </tbody>\n",
       "</table>\n",
       "</div>"
      ],
      "text/plain": [
       "   MSISDN/Number  Engagement Score  Experience Score  Satisfaction Score\n",
       "0   3.360100e+10          0.748742          0.831074            0.789908\n",
       "1   3.360100e+10          0.698508          0.826095            0.762302\n",
       "2   3.360100e+10          0.728257          0.811697            0.769977\n",
       "3   3.360101e+10          0.714383          0.870518            0.792450\n",
       "4   3.360101e+10          0.829207          1.071158            0.950182"
      ]
     },
     "execution_count": 16,
     "metadata": {},
     "output_type": "execute_result"
    }
   ],
   "source": [
    "# Calculate the satisfaction score\n",
    "# The average of engagement and experience scores\n",
    "satisfaction_data['Satisfaction Score'] = satisfaction_data[['Engagement Score', 'Experience Score']].mean(axis=1)\n",
    "satisfaction_data.head()\n"
   ]
  },
  {
   "cell_type": "code",
   "execution_count": 17,
   "metadata": {},
   "outputs": [],
   "source": [
    "# Save satisfaction data to load in the regression model\n",
    "satisfaction_data.to_pickle('satisfaction_data.pkl')"
   ]
  },
  {
   "cell_type": "markdown",
   "metadata": {},
   "source": [
    "### Top 10 satisfied customers"
   ]
  },
  {
   "cell_type": "code",
   "execution_count": 18,
   "metadata": {},
   "outputs": [
    {
     "data": {
      "text/html": [
       "<div>\n",
       "<style scoped>\n",
       "    .dataframe tbody tr th:only-of-type {\n",
       "        vertical-align: middle;\n",
       "    }\n",
       "\n",
       "    .dataframe tbody tr th {\n",
       "        vertical-align: top;\n",
       "    }\n",
       "\n",
       "    .dataframe thead th {\n",
       "        text-align: right;\n",
       "    }\n",
       "</style>\n",
       "<table border=\"1\" class=\"dataframe\">\n",
       "  <thead>\n",
       "    <tr style=\"text-align: right;\">\n",
       "      <th></th>\n",
       "      <th>MSISDN/Number</th>\n",
       "      <th>Engagement Score</th>\n",
       "      <th>Experience Score</th>\n",
       "      <th>Satisfaction Score</th>\n",
       "    </tr>\n",
       "  </thead>\n",
       "  <tbody>\n",
       "    <tr>\n",
       "      <th>76363</th>\n",
       "      <td>3.367588e+10</td>\n",
       "      <td>1.888282</td>\n",
       "      <td>2.476768</td>\n",
       "      <td>2.182525</td>\n",
       "    </tr>\n",
       "    <tr>\n",
       "      <th>37470</th>\n",
       "      <td>3.365982e+10</td>\n",
       "      <td>1.362202</td>\n",
       "      <td>2.816665</td>\n",
       "      <td>2.089434</td>\n",
       "    </tr>\n",
       "    <tr>\n",
       "      <th>1279</th>\n",
       "      <td>3.360452e+10</td>\n",
       "      <td>1.597926</td>\n",
       "      <td>2.521047</td>\n",
       "      <td>2.059487</td>\n",
       "    </tr>\n",
       "    <tr>\n",
       "      <th>37052</th>\n",
       "      <td>3.365973e+10</td>\n",
       "      <td>1.901504</td>\n",
       "      <td>2.147969</td>\n",
       "      <td>2.024736</td>\n",
       "    </tr>\n",
       "    <tr>\n",
       "      <th>6437</th>\n",
       "      <td>3.361489e+10</td>\n",
       "      <td>2.121897</td>\n",
       "      <td>1.878807</td>\n",
       "      <td>2.000352</td>\n",
       "    </tr>\n",
       "    <tr>\n",
       "      <th>13180</th>\n",
       "      <td>3.362578e+10</td>\n",
       "      <td>2.306460</td>\n",
       "      <td>1.608008</td>\n",
       "      <td>1.957234</td>\n",
       "    </tr>\n",
       "    <tr>\n",
       "      <th>39120</th>\n",
       "      <td>3.366021e+10</td>\n",
       "      <td>1.397155</td>\n",
       "      <td>2.340010</td>\n",
       "      <td>1.868583</td>\n",
       "    </tr>\n",
       "    <tr>\n",
       "      <th>666</th>\n",
       "      <td>3.360313e+10</td>\n",
       "      <td>1.581619</td>\n",
       "      <td>2.116028</td>\n",
       "      <td>1.848824</td>\n",
       "    </tr>\n",
       "    <tr>\n",
       "      <th>13526</th>\n",
       "      <td>3.362632e+10</td>\n",
       "      <td>2.073547</td>\n",
       "      <td>1.588213</td>\n",
       "      <td>1.830880</td>\n",
       "    </tr>\n",
       "    <tr>\n",
       "      <th>35436</th>\n",
       "      <td>3.365936e+10</td>\n",
       "      <td>1.458756</td>\n",
       "      <td>2.125255</td>\n",
       "      <td>1.792006</td>\n",
       "    </tr>\n",
       "  </tbody>\n",
       "</table>\n",
       "</div>"
      ],
      "text/plain": [
       "       MSISDN/Number  Engagement Score  Experience Score  Satisfaction Score\n",
       "76363   3.367588e+10          1.888282          2.476768            2.182525\n",
       "37470   3.365982e+10          1.362202          2.816665            2.089434\n",
       "1279    3.360452e+10          1.597926          2.521047            2.059487\n",
       "37052   3.365973e+10          1.901504          2.147969            2.024736\n",
       "6437    3.361489e+10          2.121897          1.878807            2.000352\n",
       "13180   3.362578e+10          2.306460          1.608008            1.957234\n",
       "39120   3.366021e+10          1.397155          2.340010            1.868583\n",
       "666     3.360313e+10          1.581619          2.116028            1.848824\n",
       "13526   3.362632e+10          2.073547          1.588213            1.830880\n",
       "35436   3.365936e+10          1.458756          2.125255            1.792006"
      ]
     },
     "execution_count": 18,
     "metadata": {},
     "output_type": "execute_result"
    }
   ],
   "source": [
    "# Sort by satisfaction score and get the top 10\n",
    "top_10_satisfied = satisfaction_data.sort_values(by='Satisfaction Score', ascending=False).head(10)\n",
    "top_10_satisfied"
   ]
  },
  {
   "cell_type": "markdown",
   "metadata": {},
   "source": [
    "##### Export Satisfaction data to database"
   ]
  },
  {
   "cell_type": "code",
   "execution_count": 19,
   "metadata": {},
   "outputs": [],
   "source": [
    "# Import utility function\n",
    "from scripts import utils"
   ]
  },
  {
   "cell_type": "code",
   "execution_count": 20,
   "metadata": {},
   "outputs": [
    {
     "name": "stderr",
     "output_type": "stream",
     "text": [
      "INFO:scripts.utils:Trying to load environment variables from c:\\Users\\mekbi\\Desktop\\Kifiya\\week-2\\telecom-data-analysis/.env\n",
      "INFO:scripts.utils:Credentials loaded successfully\n"
     ]
    }
   ],
   "source": [
    "# Create a connection\n",
    "CREDENTIALS = utils.load_environment_variables(parent_directory=parent_directory)\n",
    "connection = utils.create_alchemy_connection(credentials=CREDENTIALS)"
   ]
  },
  {
   "cell_type": "code",
   "execution_count": 21,
   "metadata": {},
   "outputs": [
    {
     "name": "stderr",
     "output_type": "stream",
     "text": [
      "INFO:root:DataFrame exported to table 'satisfaction_data' successfully.\n"
     ]
    },
    {
     "data": {
      "text/plain": [
       "True"
      ]
     },
     "execution_count": 21,
     "metadata": {},
     "output_type": "execute_result"
    }
   ],
   "source": [
    "# Export data\n",
    "table_name  = 'satisfaction_data'\n",
    "utils.export_df_to_db(df=satisfaction_data,\n",
    "                      conn=connection,\n",
    "                      table_name=table_name,\n",
    "                      if_exists='replace')"
   ]
  }
 ],
 "metadata": {
  "kernelspec": {
   "display_name": "venv",
   "language": "python",
   "name": "python3"
  },
  "language_info": {
   "codemirror_mode": {
    "name": "ipython",
    "version": 3
   },
   "file_extension": ".py",
   "mimetype": "text/x-python",
   "name": "python",
   "nbconvert_exporter": "python",
   "pygments_lexer": "ipython3",
   "version": "3.12.3"
  }
 },
 "nbformat": 4,
 "nbformat_minor": 2
}
