{
 "cells": [
  {
   "cell_type": "code",
   "execution_count": 7,
   "metadata": {},
   "outputs": [
    {
     "data": {
      "text/plain": [
       "['c:\\\\Users\\\\mekbi\\\\Desktop\\\\Kifiya\\\\week-2\\\\telecom-data-analysis',\n",
       " 'c:\\\\Users\\\\mekbi\\\\Desktop\\\\Kifiya\\\\week-2\\\\telecom-data-analysis',\n",
       " 'C:\\\\Users\\\\mekbi\\\\AppData\\\\Local\\\\Programs\\\\Python\\\\Python312\\\\python312.zip',\n",
       " 'C:\\\\Users\\\\mekbi\\\\AppData\\\\Local\\\\Programs\\\\Python\\\\Python312\\\\DLLs',\n",
       " 'C:\\\\Users\\\\mekbi\\\\AppData\\\\Local\\\\Programs\\\\Python\\\\Python312\\\\Lib',\n",
       " 'C:\\\\Users\\\\mekbi\\\\AppData\\\\Local\\\\Programs\\\\Python\\\\Python312',\n",
       " 'c:\\\\Users\\\\mekbi\\\\Desktop\\\\Kifiya\\\\week-2\\\\telecom-data-analysis\\\\venv',\n",
       " '',\n",
       " 'c:\\\\Users\\\\mekbi\\\\Desktop\\\\Kifiya\\\\week-2\\\\telecom-data-analysis\\\\venv\\\\Lib\\\\site-packages',\n",
       " 'c:\\\\Users\\\\mekbi\\\\Desktop\\\\Kifiya\\\\week-2\\\\telecom-data-analysis\\\\venv\\\\Lib\\\\site-packages\\\\win32',\n",
       " 'c:\\\\Users\\\\mekbi\\\\Desktop\\\\Kifiya\\\\week-2\\\\telecom-data-analysis\\\\venv\\\\Lib\\\\site-packages\\\\win32\\\\lib',\n",
       " 'c:\\\\Users\\\\mekbi\\\\Desktop\\\\Kifiya\\\\week-2\\\\telecom-data-analysis\\\\venv\\\\Lib\\\\site-packages\\\\Pythonwin']"
      ]
     },
     "execution_count": 7,
     "metadata": {},
     "output_type": "execute_result"
    }
   ],
   "source": [
    "# Add the parent directory to sys.path\n",
    "import sys, os\n",
    "from pathlib import Path\n",
    "\n",
    "current_directory = os.getcwd()\n",
    "parent_directory = Path(current_directory).parent.parent\n",
    "sys.path.insert(0, str(parent_directory))\n",
    "sys.path"
   ]
  },
  {
   "cell_type": "markdown",
   "metadata": {},
   "source": [
    "### Load satisfaction data"
   ]
  },
  {
   "cell_type": "code",
   "execution_count": 8,
   "metadata": {},
   "outputs": [
    {
     "data": {
      "text/html": [
       "<div>\n",
       "<style scoped>\n",
       "    .dataframe tbody tr th:only-of-type {\n",
       "        vertical-align: middle;\n",
       "    }\n",
       "\n",
       "    .dataframe tbody tr th {\n",
       "        vertical-align: top;\n",
       "    }\n",
       "\n",
       "    .dataframe thead th {\n",
       "        text-align: right;\n",
       "    }\n",
       "</style>\n",
       "<table border=\"1\" class=\"dataframe\">\n",
       "  <thead>\n",
       "    <tr style=\"text-align: right;\">\n",
       "      <th></th>\n",
       "      <th>MSISDN/Number</th>\n",
       "      <th>Engagement Score</th>\n",
       "      <th>Experience Score</th>\n",
       "      <th>Satisfaction Score</th>\n",
       "    </tr>\n",
       "  </thead>\n",
       "  <tbody>\n",
       "    <tr>\n",
       "      <th>0</th>\n",
       "      <td>3.360100e+10</td>\n",
       "      <td>0.748742</td>\n",
       "      <td>0.831074</td>\n",
       "      <td>0.789908</td>\n",
       "    </tr>\n",
       "    <tr>\n",
       "      <th>1</th>\n",
       "      <td>3.360100e+10</td>\n",
       "      <td>0.698508</td>\n",
       "      <td>0.826095</td>\n",
       "      <td>0.762302</td>\n",
       "    </tr>\n",
       "    <tr>\n",
       "      <th>2</th>\n",
       "      <td>3.360100e+10</td>\n",
       "      <td>0.728257</td>\n",
       "      <td>0.811697</td>\n",
       "      <td>0.769977</td>\n",
       "    </tr>\n",
       "    <tr>\n",
       "      <th>3</th>\n",
       "      <td>3.360101e+10</td>\n",
       "      <td>0.714383</td>\n",
       "      <td>0.870518</td>\n",
       "      <td>0.792450</td>\n",
       "    </tr>\n",
       "    <tr>\n",
       "      <th>4</th>\n",
       "      <td>3.360101e+10</td>\n",
       "      <td>0.829207</td>\n",
       "      <td>1.071158</td>\n",
       "      <td>0.950182</td>\n",
       "    </tr>\n",
       "  </tbody>\n",
       "</table>\n",
       "</div>"
      ],
      "text/plain": [
       "   MSISDN/Number  Engagement Score  Experience Score  Satisfaction Score\n",
       "0   3.360100e+10          0.748742          0.831074            0.789908\n",
       "1   3.360100e+10          0.698508          0.826095            0.762302\n",
       "2   3.360100e+10          0.728257          0.811697            0.769977\n",
       "3   3.360101e+10          0.714383          0.870518            0.792450\n",
       "4   3.360101e+10          0.829207          1.071158            0.950182"
      ]
     },
     "execution_count": 8,
     "metadata": {},
     "output_type": "execute_result"
    }
   ],
   "source": [
    "import pandas as pd\n",
    "satisfaction_data = pd.read_pickle('./satisfaction_data.pkl')\n",
    "satisfaction_data.head()"
   ]
  },
  {
   "cell_type": "markdown",
   "metadata": {},
   "source": [
    "### Cluster the data to two groups"
   ]
  },
  {
   "cell_type": "code",
   "execution_count": 9,
   "metadata": {},
   "outputs": [],
   "source": [
    "# Import engagement_utils module\n",
    "from scripts import enagagement_utils"
   ]
  },
  {
   "cell_type": "code",
   "execution_count": 10,
   "metadata": {},
   "outputs": [
    {
     "data": {
      "text/plain": [
       "array([[6.03678514e-02, 1.03616407e-02, 3.45822869e-02],\n",
       "       [3.00663042e-02, 7.87994357e-03, 1.54443543e-02],\n",
       "       [4.80108414e-02, 7.03944599e-04, 2.07651749e-02],\n",
       "       ...,\n",
       "       [4.14016172e-02, 8.81094112e-07, 1.64784015e-02],\n",
       "       [4.92956693e-02, 3.06213187e-04, 2.12268663e-02],\n",
       "       [3.75969451e-02, 1.76219530e-06, 1.42927539e-02]])"
      ]
     },
     "execution_count": 10,
     "metadata": {},
     "output_type": "execute_result"
    }
   ],
   "source": [
    "# Normalize the data\n",
    "normalized_data = enagagement_utils.normalize_data(df=satisfaction_data.drop('MSISDN/Number', axis=1))\n",
    "normalized_data"
   ]
  },
  {
   "cell_type": "code",
   "execution_count": 11,
   "metadata": {},
   "outputs": [
    {
     "name": "stderr",
     "output_type": "stream",
     "text": [
      "INFO:root:K-Means clustering successful, customers classified into three groups\n"
     ]
    },
    {
     "data": {
      "text/plain": [
       "array([1, 1, 1, ..., 1, 1, 1], dtype=int32)"
      ]
     },
     "execution_count": 11,
     "metadata": {},
     "output_type": "execute_result"
    }
   ],
   "source": [
    "# Cluster data\n",
    "clusters = enagagement_utils.cluster_data(normalized_data=normalized_data,\n",
    "                                          n_clusters=2)\n",
    "clusters"
   ]
  },
  {
   "cell_type": "code",
   "execution_count": 12,
   "metadata": {},
   "outputs": [
    {
     "data": {
      "text/html": [
       "<div>\n",
       "<style scoped>\n",
       "    .dataframe tbody tr th:only-of-type {\n",
       "        vertical-align: middle;\n",
       "    }\n",
       "\n",
       "    .dataframe tbody tr th {\n",
       "        vertical-align: top;\n",
       "    }\n",
       "\n",
       "    .dataframe thead th {\n",
       "        text-align: right;\n",
       "    }\n",
       "</style>\n",
       "<table border=\"1\" class=\"dataframe\">\n",
       "  <thead>\n",
       "    <tr style=\"text-align: right;\">\n",
       "      <th></th>\n",
       "      <th>MSISDN/Number</th>\n",
       "      <th>Engagement Score</th>\n",
       "      <th>Experience Score</th>\n",
       "      <th>Satisfaction Score</th>\n",
       "      <th>Cluster</th>\n",
       "    </tr>\n",
       "  </thead>\n",
       "  <tbody>\n",
       "    <tr>\n",
       "      <th>0</th>\n",
       "      <td>3.360100e+10</td>\n",
       "      <td>0.748742</td>\n",
       "      <td>0.831074</td>\n",
       "      <td>0.789908</td>\n",
       "      <td>1</td>\n",
       "    </tr>\n",
       "    <tr>\n",
       "      <th>1</th>\n",
       "      <td>3.360100e+10</td>\n",
       "      <td>0.698508</td>\n",
       "      <td>0.826095</td>\n",
       "      <td>0.762302</td>\n",
       "      <td>1</td>\n",
       "    </tr>\n",
       "    <tr>\n",
       "      <th>2</th>\n",
       "      <td>3.360100e+10</td>\n",
       "      <td>0.728257</td>\n",
       "      <td>0.811697</td>\n",
       "      <td>0.769977</td>\n",
       "      <td>1</td>\n",
       "    </tr>\n",
       "    <tr>\n",
       "      <th>3</th>\n",
       "      <td>3.360101e+10</td>\n",
       "      <td>0.714383</td>\n",
       "      <td>0.870518</td>\n",
       "      <td>0.792450</td>\n",
       "      <td>1</td>\n",
       "    </tr>\n",
       "    <tr>\n",
       "      <th>4</th>\n",
       "      <td>3.360101e+10</td>\n",
       "      <td>0.829207</td>\n",
       "      <td>1.071158</td>\n",
       "      <td>0.950182</td>\n",
       "      <td>1</td>\n",
       "    </tr>\n",
       "  </tbody>\n",
       "</table>\n",
       "</div>"
      ],
      "text/plain": [
       "   MSISDN/Number  Engagement Score  Experience Score  Satisfaction Score  \\\n",
       "0   3.360100e+10          0.748742          0.831074            0.789908   \n",
       "1   3.360100e+10          0.698508          0.826095            0.762302   \n",
       "2   3.360100e+10          0.728257          0.811697            0.769977   \n",
       "3   3.360101e+10          0.714383          0.870518            0.792450   \n",
       "4   3.360101e+10          0.829207          1.071158            0.950182   \n",
       "\n",
       "   Cluster  \n",
       "0        1  \n",
       "1        1  \n",
       "2        1  \n",
       "3        1  \n",
       "4        1  "
      ]
     },
     "execution_count": 12,
     "metadata": {},
     "output_type": "execute_result"
    }
   ],
   "source": [
    "# Add the cluster data to the satisfaction data\n",
    "satisfaction_data['Cluster'] = clusters\n",
    "satisfaction_data.head()"
   ]
  },
  {
   "cell_type": "code",
   "execution_count": 13,
   "metadata": {},
   "outputs": [
    {
     "data": {
      "text/html": [
       "<div>\n",
       "<style scoped>\n",
       "    .dataframe tbody tr th:only-of-type {\n",
       "        vertical-align: middle;\n",
       "    }\n",
       "\n",
       "    .dataframe tbody tr th {\n",
       "        vertical-align: top;\n",
       "    }\n",
       "\n",
       "    .dataframe thead th {\n",
       "        text-align: right;\n",
       "    }\n",
       "</style>\n",
       "<table border=\"1\" class=\"dataframe\">\n",
       "  <thead>\n",
       "    <tr style=\"text-align: right;\">\n",
       "      <th></th>\n",
       "      <th>MSISDN/Number</th>\n",
       "      <th>Engagement Score</th>\n",
       "      <th>Experience Score</th>\n",
       "      <th>Satisfaction Score</th>\n",
       "      <th>Cluster</th>\n",
       "    </tr>\n",
       "  </thead>\n",
       "  <tbody>\n",
       "    <tr>\n",
       "      <th>0</th>\n",
       "      <td>3.360100e+10</td>\n",
       "      <td>0.748742</td>\n",
       "      <td>0.831074</td>\n",
       "      <td>0.789908</td>\n",
       "      <td>1</td>\n",
       "    </tr>\n",
       "    <tr>\n",
       "      <th>1</th>\n",
       "      <td>3.360100e+10</td>\n",
       "      <td>0.698508</td>\n",
       "      <td>0.826095</td>\n",
       "      <td>0.762302</td>\n",
       "      <td>1</td>\n",
       "    </tr>\n",
       "    <tr>\n",
       "      <th>2</th>\n",
       "      <td>3.360100e+10</td>\n",
       "      <td>0.728257</td>\n",
       "      <td>0.811697</td>\n",
       "      <td>0.769977</td>\n",
       "      <td>1</td>\n",
       "    </tr>\n",
       "    <tr>\n",
       "      <th>3</th>\n",
       "      <td>3.360101e+10</td>\n",
       "      <td>0.714383</td>\n",
       "      <td>0.870518</td>\n",
       "      <td>0.792450</td>\n",
       "      <td>1</td>\n",
       "    </tr>\n",
       "    <tr>\n",
       "      <th>4</th>\n",
       "      <td>3.360101e+10</td>\n",
       "      <td>0.829207</td>\n",
       "      <td>1.071158</td>\n",
       "      <td>0.950182</td>\n",
       "      <td>1</td>\n",
       "    </tr>\n",
       "    <tr>\n",
       "      <th>29</th>\n",
       "      <td>3.360105e+10</td>\n",
       "      <td>0.906062</td>\n",
       "      <td>1.033503</td>\n",
       "      <td>0.969782</td>\n",
       "      <td>0</td>\n",
       "    </tr>\n",
       "    <tr>\n",
       "      <th>133</th>\n",
       "      <td>3.360127e+10</td>\n",
       "      <td>0.988350</td>\n",
       "      <td>1.050487</td>\n",
       "      <td>1.019418</td>\n",
       "      <td>0</td>\n",
       "    </tr>\n",
       "    <tr>\n",
       "      <th>147</th>\n",
       "      <td>3.360128e+10</td>\n",
       "      <td>0.946613</td>\n",
       "      <td>1.075242</td>\n",
       "      <td>1.010927</td>\n",
       "      <td>0</td>\n",
       "    </tr>\n",
       "    <tr>\n",
       "      <th>403</th>\n",
       "      <td>3.360207e+10</td>\n",
       "      <td>1.035319</td>\n",
       "      <td>1.172150</td>\n",
       "      <td>1.103734</td>\n",
       "      <td>0</td>\n",
       "    </tr>\n",
       "    <tr>\n",
       "      <th>445</th>\n",
       "      <td>3.360223e+10</td>\n",
       "      <td>0.914443</td>\n",
       "      <td>1.080510</td>\n",
       "      <td>0.997476</td>\n",
       "      <td>0</td>\n",
       "    </tr>\n",
       "  </tbody>\n",
       "</table>\n",
       "</div>"
      ],
      "text/plain": [
       "     MSISDN/Number  Engagement Score  Experience Score  Satisfaction Score  \\\n",
       "0     3.360100e+10          0.748742          0.831074            0.789908   \n",
       "1     3.360100e+10          0.698508          0.826095            0.762302   \n",
       "2     3.360100e+10          0.728257          0.811697            0.769977   \n",
       "3     3.360101e+10          0.714383          0.870518            0.792450   \n",
       "4     3.360101e+10          0.829207          1.071158            0.950182   \n",
       "29    3.360105e+10          0.906062          1.033503            0.969782   \n",
       "133   3.360127e+10          0.988350          1.050487            1.019418   \n",
       "147   3.360128e+10          0.946613          1.075242            1.010927   \n",
       "403   3.360207e+10          1.035319          1.172150            1.103734   \n",
       "445   3.360223e+10          0.914443          1.080510            0.997476   \n",
       "\n",
       "     Cluster  \n",
       "0          1  \n",
       "1          1  \n",
       "2          1  \n",
       "3          1  \n",
       "4          1  \n",
       "29         0  \n",
       "133        0  \n",
       "147        0  \n",
       "403        0  \n",
       "445        0  "
      ]
     },
     "execution_count": 13,
     "metadata": {},
     "output_type": "execute_result"
    }
   ],
   "source": [
    "# group the data by the clusters\n",
    "cluster_data = satisfaction_data.groupby('Cluster')\n",
    "cluster_data.head()"
   ]
  },
  {
   "cell_type": "markdown",
   "metadata": {},
   "source": [
    "### Aggregate average scores per cluster"
   ]
  },
  {
   "cell_type": "code",
   "execution_count": 14,
   "metadata": {},
   "outputs": [
    {
     "data": {
      "text/html": [
       "<div>\n",
       "<style scoped>\n",
       "    .dataframe tbody tr th:only-of-type {\n",
       "        vertical-align: middle;\n",
       "    }\n",
       "\n",
       "    .dataframe tbody tr th {\n",
       "        vertical-align: top;\n",
       "    }\n",
       "\n",
       "    .dataframe thead th {\n",
       "        text-align: right;\n",
       "    }\n",
       "</style>\n",
       "<table border=\"1\" class=\"dataframe\">\n",
       "  <thead>\n",
       "    <tr style=\"text-align: right;\">\n",
       "      <th></th>\n",
       "      <th>Engagement Score</th>\n",
       "      <th>Experience Score</th>\n",
       "      <th>Satisfaction Score</th>\n",
       "    </tr>\n",
       "    <tr>\n",
       "      <th>Cluster</th>\n",
       "      <th></th>\n",
       "      <th></th>\n",
       "      <th></th>\n",
       "    </tr>\n",
       "  </thead>\n",
       "  <tbody>\n",
       "    <tr>\n",
       "      <th>0</th>\n",
       "      <td>0.91974</td>\n",
       "      <td>1.26727</td>\n",
       "      <td>1.093505</td>\n",
       "    </tr>\n",
       "    <tr>\n",
       "      <th>1</th>\n",
       "      <td>0.74115</td>\n",
       "      <td>0.87432</td>\n",
       "      <td>0.807735</td>\n",
       "    </tr>\n",
       "  </tbody>\n",
       "</table>\n",
       "</div>"
      ],
      "text/plain": [
       "         Engagement Score  Experience Score  Satisfaction Score\n",
       "Cluster                                                        \n",
       "0                 0.91974           1.26727            1.093505\n",
       "1                 0.74115           0.87432            0.807735"
      ]
     },
     "execution_count": 14,
     "metadata": {},
     "output_type": "execute_result"
    }
   ],
   "source": [
    "scores = ['Engagement Score', 'Experience Score', 'Satisfaction Score']\n",
    "average_scores = cluster_data[scores].mean()\n",
    "average_scores"
   ]
  }
 ],
 "metadata": {
  "kernelspec": {
   "display_name": "venv",
   "language": "python",
   "name": "python3"
  },
  "language_info": {
   "codemirror_mode": {
    "name": "ipython",
    "version": 3
   },
   "file_extension": ".py",
   "mimetype": "text/x-python",
   "name": "python",
   "nbconvert_exporter": "python",
   "pygments_lexer": "ipython3",
   "version": "3.12.3"
  }
 },
 "nbformat": 4,
 "nbformat_minor": 2
}
