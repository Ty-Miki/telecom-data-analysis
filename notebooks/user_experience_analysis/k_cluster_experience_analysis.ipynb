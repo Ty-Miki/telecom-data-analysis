{
 "cells": [
  {
   "cell_type": "code",
   "execution_count": 3,
   "metadata": {},
   "outputs": [
    {
     "data": {
      "text/plain": [
       "['c:\\\\Users\\\\mekbi\\\\Desktop\\\\Kifiya\\\\week-2\\\\telecom-data-analysis',\n",
       " 'C:\\\\Users\\\\mekbi\\\\AppData\\\\Local\\\\Programs\\\\Python\\\\Python312\\\\python312.zip',\n",
       " 'C:\\\\Users\\\\mekbi\\\\AppData\\\\Local\\\\Programs\\\\Python\\\\Python312\\\\DLLs',\n",
       " 'C:\\\\Users\\\\mekbi\\\\AppData\\\\Local\\\\Programs\\\\Python\\\\Python312\\\\Lib',\n",
       " 'C:\\\\Users\\\\mekbi\\\\AppData\\\\Local\\\\Programs\\\\Python\\\\Python312',\n",
       " 'c:\\\\Users\\\\mekbi\\\\Desktop\\\\Kifiya\\\\week-2\\\\telecom-data-analysis\\\\venv',\n",
       " '',\n",
       " 'c:\\\\Users\\\\mekbi\\\\Desktop\\\\Kifiya\\\\week-2\\\\telecom-data-analysis\\\\venv\\\\Lib\\\\site-packages',\n",
       " 'c:\\\\Users\\\\mekbi\\\\Desktop\\\\Kifiya\\\\week-2\\\\telecom-data-analysis\\\\venv\\\\Lib\\\\site-packages\\\\win32',\n",
       " 'c:\\\\Users\\\\mekbi\\\\Desktop\\\\Kifiya\\\\week-2\\\\telecom-data-analysis\\\\venv\\\\Lib\\\\site-packages\\\\win32\\\\lib',\n",
       " 'c:\\\\Users\\\\mekbi\\\\Desktop\\\\Kifiya\\\\week-2\\\\telecom-data-analysis\\\\venv\\\\Lib\\\\site-packages\\\\Pythonwin']"
      ]
     },
     "execution_count": 3,
     "metadata": {},
     "output_type": "execute_result"
    }
   ],
   "source": [
    "# Add the parent directory to sys.path\n",
    "import sys, os\n",
    "from pathlib import Path\n",
    "\n",
    "current_directory = os.getcwd()\n",
    "parent_directory = Path(current_directory).parent.parent\n",
    "sys.path.insert(0, str(parent_directory))\n",
    "sys.path"
   ]
  },
  {
   "cell_type": "markdown",
   "metadata": {},
   "source": [
    "# Connect to database"
   ]
  },
  {
   "cell_type": "code",
   "execution_count": 4,
   "metadata": {},
   "outputs": [],
   "source": [
    "# Import the utils moudle\n",
    "from scripts import utils"
   ]
  },
  {
   "cell_type": "code",
   "execution_count": 5,
   "metadata": {},
   "outputs": [
    {
     "name": "stderr",
     "output_type": "stream",
     "text": [
      "INFO:scripts.utils:Trying to load environment variables from c:\\Users\\mekbi\\Desktop\\Kifiya\\week-2\\telecom-data-analysis/.env\n",
      "INFO:scripts.utils:Credentials loaded successfully\n",
      "INFO:scripts.utils:Attempting to connect to the database\n",
      "INFO:scripts.utils:Connection successful\n"
     ]
    }
   ],
   "source": [
    "# Load the credentialsand connect to database\n",
    "CREDENTIALS  = utils.load_environment_variables(parent_directory=parent_directory)\n",
    "connection = utils.connect_to_database({\"dbname\": CREDENTIALS['DB_NAME'],\n",
    "                                 \"user\": CREDENTIALS['USER'],\n",
    "                                 \"host\": CREDENTIALS['host'],\n",
    "                                 \"port\": CREDENTIALS['port']})"
   ]
  },
  {
   "cell_type": "code",
   "execution_count": 6,
   "metadata": {},
   "outputs": [
    {
     "name": "stderr",
     "output_type": "stream",
     "text": [
      "INFO:root:Executing query: SELECT * FROM xdr_data\n",
      "c:\\Users\\mekbi\\Desktop\\Kifiya\\week-2\\telecom-data-analysis\\scripts\\utils.py:48: UserWarning: pandas only supports SQLAlchemy connectable (engine/connection) or database string URI or sqlite3 DBAPI2 connection. Other DBAPI2 objects are not tested. Please consider using SQLAlchemy.\n",
      "  df = pd.read_sql_query(query, conn)\n",
      "INFO:scripts.utils:Data loaded into DataFrame successfully\n",
      "INFO:root:Database connection closed successfully\n"
     ]
    }
   ],
   "source": [
    "# Load the db files into pandas dataframe and close the connection\n",
    "table_name = 'xdr_data'\n",
    "df = utils.load_data_from_db(conn=connection,\n",
    "                       table_name=table_name)\n",
    "utils.close_database_connection(conn=connection)"
   ]
  },
  {
   "cell_type": "markdown",
   "metadata": {},
   "source": [
    "### Data preparation and cleaning"
   ]
  },
  {
   "cell_type": "code",
   "execution_count": 7,
   "metadata": {},
   "outputs": [
    {
     "name": "stderr",
     "output_type": "stream",
     "text": [
      "INFO:root:Q1, Q3, and IQR calculated successfully\n",
      "INFO:root:Lower bound and upper bound calculated successfully\n",
      "INFO:root:Tukey's Fence applied successfully\n"
     ]
    }
   ],
   "source": [
    "# Replace outliers\n",
    "from scripts import experience_utils\n",
    "relevant_columns = ['Avg RTT DL (ms)', 'Avg RTT UL (ms)',\n",
    "                    'Avg Bearer TP DL (kbps)', 'Avg Bearer TP UL (kbps)',\n",
    "                    'TCP DL Retrans. Vol (Bytes)', 'TCP UL Retrans. Vol (Bytes)']\n",
    "modified_df = experience_utils.tukeys_fence(df=df,\n",
    "                                            columns=relevant_columns)"
   ]
  },
  {
   "cell_type": "code",
   "execution_count": 8,
   "metadata": {},
   "outputs": [
    {
     "name": "stderr",
     "output_type": "stream",
     "text": [
      "C:\\Users\\mekbi\\AppData\\Local\\Temp\\ipykernel_8024\\2712465349.py:3: FutureWarning: A value is trying to be set on a copy of a DataFrame or Series through chained assignment using an inplace method.\n",
      "The behavior will change in pandas 3.0. This inplace method will never work because the intermediate object on which we are setting values always behaves as a copy.\n",
      "\n",
      "For example, when doing 'df[col].method(value, inplace=True)', try using 'df.method({col: value}, inplace=True)' or df[col] = df[col].method(value) instead, to perform the operation inplace on the original object.\n",
      "\n",
      "\n",
      "  modified_df[column].fillna(modified_df[column].mean(), inplace=True)\n"
     ]
    }
   ],
   "source": [
    "# Fill missing numerical values with the mean\n",
    "for column in relevant_columns:\n",
    "    modified_df[column].fillna(modified_df[column].mean(), inplace=True)"
   ]
  },
  {
   "cell_type": "code",
   "execution_count": 9,
   "metadata": {},
   "outputs": [
    {
     "name": "stderr",
     "output_type": "stream",
     "text": [
      "INFO:root:Conversion of 'TCP DL Retrans. Vol (Bytes)' to megaytes in column 'TCP DL Retrans. Vol (MB)' successful\n",
      "INFO:root:Conversion of 'TCP UL Retrans. Vol (Bytes)' to megaytes in column 'TCP UL Retrans. Vol (MB)' successful\n"
     ]
    },
    {
     "data": {
      "text/html": [
       "<div>\n",
       "<style scoped>\n",
       "    .dataframe tbody tr th:only-of-type {\n",
       "        vertical-align: middle;\n",
       "    }\n",
       "\n",
       "    .dataframe tbody tr th {\n",
       "        vertical-align: top;\n",
       "    }\n",
       "\n",
       "    .dataframe thead th {\n",
       "        text-align: right;\n",
       "    }\n",
       "</style>\n",
       "<table border=\"1\" class=\"dataframe\">\n",
       "  <thead>\n",
       "    <tr style=\"text-align: right;\">\n",
       "      <th></th>\n",
       "      <th>Bearer Id</th>\n",
       "      <th>Start</th>\n",
       "      <th>Start ms</th>\n",
       "      <th>End</th>\n",
       "      <th>End ms</th>\n",
       "      <th>Dur. (ms)</th>\n",
       "      <th>IMSI</th>\n",
       "      <th>MSISDN/Number</th>\n",
       "      <th>IMEI</th>\n",
       "      <th>Last Location Name</th>\n",
       "      <th>...</th>\n",
       "      <th>Netflix DL (Bytes)</th>\n",
       "      <th>Netflix UL (Bytes)</th>\n",
       "      <th>Gaming DL (Bytes)</th>\n",
       "      <th>Gaming UL (Bytes)</th>\n",
       "      <th>Other DL (Bytes)</th>\n",
       "      <th>Other UL (Bytes)</th>\n",
       "      <th>Total UL (Bytes)</th>\n",
       "      <th>Total DL (Bytes)</th>\n",
       "      <th>TCP DL Retrans. Vol (MB)</th>\n",
       "      <th>TCP UL Retrans. Vol (MB)</th>\n",
       "    </tr>\n",
       "  </thead>\n",
       "  <tbody>\n",
       "    <tr>\n",
       "      <th>0</th>\n",
       "      <td>1.311448e+19</td>\n",
       "      <td>4/4/2019 12:01</td>\n",
       "      <td>770.0</td>\n",
       "      <td>4/25/2019 14:35</td>\n",
       "      <td>662.0</td>\n",
       "      <td>1823652.0</td>\n",
       "      <td>2.082014e+14</td>\n",
       "      <td>3.366496e+10</td>\n",
       "      <td>3.552121e+13</td>\n",
       "      <td>9.16456699548519E+015</td>\n",
       "      <td>...</td>\n",
       "      <td>8198936.0</td>\n",
       "      <td>9656251.0</td>\n",
       "      <td>278082303.0</td>\n",
       "      <td>14344150.0</td>\n",
       "      <td>171744450.0</td>\n",
       "      <td>8814393.0</td>\n",
       "      <td>36749741.0</td>\n",
       "      <td>308879636.0</td>\n",
       "      <td>1.14786</td>\n",
       "      <td>0.030468</td>\n",
       "    </tr>\n",
       "    <tr>\n",
       "      <th>1</th>\n",
       "      <td>1.311448e+19</td>\n",
       "      <td>4/9/2019 13:04</td>\n",
       "      <td>235.0</td>\n",
       "      <td>4/25/2019 8:15</td>\n",
       "      <td>606.0</td>\n",
       "      <td>1365104.0</td>\n",
       "      <td>2.082019e+14</td>\n",
       "      <td>3.368185e+10</td>\n",
       "      <td>3.579401e+13</td>\n",
       "      <td>L77566A</td>\n",
       "      <td>...</td>\n",
       "      <td>18338413.0</td>\n",
       "      <td>17227132.0</td>\n",
       "      <td>608750074.0</td>\n",
       "      <td>1170709.0</td>\n",
       "      <td>526904238.0</td>\n",
       "      <td>15055145.0</td>\n",
       "      <td>53800391.0</td>\n",
       "      <td>653384965.0</td>\n",
       "      <td>1.14786</td>\n",
       "      <td>0.030468</td>\n",
       "    </tr>\n",
       "    <tr>\n",
       "      <th>2</th>\n",
       "      <td>1.311448e+19</td>\n",
       "      <td>4/9/2019 17:42</td>\n",
       "      <td>1.0</td>\n",
       "      <td>4/25/2019 11:58</td>\n",
       "      <td>652.0</td>\n",
       "      <td>1361762.0</td>\n",
       "      <td>2.082003e+14</td>\n",
       "      <td>3.376063e+10</td>\n",
       "      <td>3.528151e+13</td>\n",
       "      <td>D42335A</td>\n",
       "      <td>...</td>\n",
       "      <td>17587794.0</td>\n",
       "      <td>6163408.0</td>\n",
       "      <td>229584621.0</td>\n",
       "      <td>395630.0</td>\n",
       "      <td>410692588.0</td>\n",
       "      <td>4215763.0</td>\n",
       "      <td>27883638.0</td>\n",
       "      <td>279807335.0</td>\n",
       "      <td>1.14786</td>\n",
       "      <td>0.030468</td>\n",
       "    </tr>\n",
       "    <tr>\n",
       "      <th>3</th>\n",
       "      <td>1.311448e+19</td>\n",
       "      <td>4/10/2019 0:31</td>\n",
       "      <td>486.0</td>\n",
       "      <td>4/25/2019 7:36</td>\n",
       "      <td>171.0</td>\n",
       "      <td>1321509.0</td>\n",
       "      <td>2.082014e+14</td>\n",
       "      <td>3.375034e+10</td>\n",
       "      <td>3.535661e+13</td>\n",
       "      <td>T21824A</td>\n",
       "      <td>...</td>\n",
       "      <td>13994646.0</td>\n",
       "      <td>1097942.0</td>\n",
       "      <td>799538153.0</td>\n",
       "      <td>10849722.0</td>\n",
       "      <td>749039933.0</td>\n",
       "      <td>12797283.0</td>\n",
       "      <td>43324218.0</td>\n",
       "      <td>846028530.0</td>\n",
       "      <td>1.14786</td>\n",
       "      <td>0.030468</td>\n",
       "    </tr>\n",
       "    <tr>\n",
       "      <th>4</th>\n",
       "      <td>1.311448e+19</td>\n",
       "      <td>4/12/2019 20:10</td>\n",
       "      <td>565.0</td>\n",
       "      <td>4/25/2019 10:40</td>\n",
       "      <td>954.0</td>\n",
       "      <td>1089009.0</td>\n",
       "      <td>2.082014e+14</td>\n",
       "      <td>3.369980e+10</td>\n",
       "      <td>3.540701e+13</td>\n",
       "      <td>D88865A</td>\n",
       "      <td>...</td>\n",
       "      <td>17124581.0</td>\n",
       "      <td>415218.0</td>\n",
       "      <td>527707248.0</td>\n",
       "      <td>3529801.0</td>\n",
       "      <td>550709500.0</td>\n",
       "      <td>13910322.0</td>\n",
       "      <td>38542814.0</td>\n",
       "      <td>569138589.0</td>\n",
       "      <td>1.14786</td>\n",
       "      <td>0.030468</td>\n",
       "    </tr>\n",
       "  </tbody>\n",
       "</table>\n",
       "<p>5 rows × 55 columns</p>\n",
       "</div>"
      ],
      "text/plain": [
       "      Bearer Id            Start  Start ms              End  End ms  \\\n",
       "0  1.311448e+19   4/4/2019 12:01     770.0  4/25/2019 14:35   662.0   \n",
       "1  1.311448e+19   4/9/2019 13:04     235.0   4/25/2019 8:15   606.0   \n",
       "2  1.311448e+19   4/9/2019 17:42       1.0  4/25/2019 11:58   652.0   \n",
       "3  1.311448e+19   4/10/2019 0:31     486.0   4/25/2019 7:36   171.0   \n",
       "4  1.311448e+19  4/12/2019 20:10     565.0  4/25/2019 10:40   954.0   \n",
       "\n",
       "   Dur. (ms)          IMSI  MSISDN/Number          IMEI  \\\n",
       "0  1823652.0  2.082014e+14   3.366496e+10  3.552121e+13   \n",
       "1  1365104.0  2.082019e+14   3.368185e+10  3.579401e+13   \n",
       "2  1361762.0  2.082003e+14   3.376063e+10  3.528151e+13   \n",
       "3  1321509.0  2.082014e+14   3.375034e+10  3.535661e+13   \n",
       "4  1089009.0  2.082014e+14   3.369980e+10  3.540701e+13   \n",
       "\n",
       "      Last Location Name  ...  Netflix DL (Bytes)  Netflix UL (Bytes)  \\\n",
       "0  9.16456699548519E+015  ...           8198936.0           9656251.0   \n",
       "1                L77566A  ...          18338413.0          17227132.0   \n",
       "2                D42335A  ...          17587794.0           6163408.0   \n",
       "3                T21824A  ...          13994646.0           1097942.0   \n",
       "4                D88865A  ...          17124581.0            415218.0   \n",
       "\n",
       "   Gaming DL (Bytes)  Gaming UL (Bytes)  Other DL (Bytes)  Other UL (Bytes)  \\\n",
       "0        278082303.0         14344150.0       171744450.0         8814393.0   \n",
       "1        608750074.0          1170709.0       526904238.0        15055145.0   \n",
       "2        229584621.0           395630.0       410692588.0         4215763.0   \n",
       "3        799538153.0         10849722.0       749039933.0        12797283.0   \n",
       "4        527707248.0          3529801.0       550709500.0        13910322.0   \n",
       "\n",
       "   Total UL (Bytes)  Total DL (Bytes)  TCP DL Retrans. Vol (MB)  \\\n",
       "0        36749741.0       308879636.0                   1.14786   \n",
       "1        53800391.0       653384965.0                   1.14786   \n",
       "2        27883638.0       279807335.0                   1.14786   \n",
       "3        43324218.0       846028530.0                   1.14786   \n",
       "4        38542814.0       569138589.0                   1.14786   \n",
       "\n",
       "   TCP UL Retrans. Vol (MB)  \n",
       "0                  0.030468  \n",
       "1                  0.030468  \n",
       "2                  0.030468  \n",
       "3                  0.030468  \n",
       "4                  0.030468  \n",
       "\n",
       "[5 rows x 55 columns]"
      ]
     },
     "execution_count": 9,
     "metadata": {},
     "output_type": "execute_result"
    }
   ],
   "source": [
    "# Convert the TCP data to MB\n",
    "from scripts import enagagement_utils\n",
    "\n",
    "converted_df = enagagement_utils.convert_bytes_to_megabytes(df=modified_df,\n",
    "                                                           bytes_column='TCP DL Retrans. Vol (Bytes)',\n",
    "                                                           gb_column='TCP DL Retrans. Vol (MB)')\n",
    "converted_df = enagagement_utils.convert_bytes_to_megabytes(df=converted_df,\n",
    "                                                           bytes_column='TCP UL Retrans. Vol (Bytes)',\n",
    "                                                           gb_column='TCP UL Retrans. Vol (MB)')\n",
    "converted_df.head()"
   ]
  },
  {
   "cell_type": "markdown",
   "metadata": {},
   "source": [
    "### Data aggregation"
   ]
  },
  {
   "cell_type": "code",
   "execution_count": 10,
   "metadata": {},
   "outputs": [
    {
     "data": {
      "text/html": [
       "<div>\n",
       "<style scoped>\n",
       "    .dataframe tbody tr th:only-of-type {\n",
       "        vertical-align: middle;\n",
       "    }\n",
       "\n",
       "    .dataframe tbody tr th {\n",
       "        vertical-align: top;\n",
       "    }\n",
       "\n",
       "    .dataframe thead th {\n",
       "        text-align: right;\n",
       "    }\n",
       "</style>\n",
       "<table border=\"1\" class=\"dataframe\">\n",
       "  <thead>\n",
       "    <tr style=\"text-align: right;\">\n",
       "      <th></th>\n",
       "      <th>MSISDN/Number</th>\n",
       "      <th>Avg RTT DL (ms)</th>\n",
       "      <th>Avg RTT UL (ms)</th>\n",
       "      <th>Avg Bearer TP DL (kbps)</th>\n",
       "      <th>Avg Bearer TP UL (kbps)</th>\n",
       "      <th>TCP DL Retrans. Vol (MB)</th>\n",
       "      <th>TCP UL Retrans. Vol (MB)</th>\n",
       "    </tr>\n",
       "  </thead>\n",
       "  <tbody>\n",
       "    <tr>\n",
       "      <th>0</th>\n",
       "      <td>3.360100e+10</td>\n",
       "      <td>46.000000</td>\n",
       "      <td>0.000000</td>\n",
       "      <td>37.0</td>\n",
       "      <td>39.0</td>\n",
       "      <td>1.147860</td>\n",
       "      <td>0.030468</td>\n",
       "    </tr>\n",
       "    <tr>\n",
       "      <th>1</th>\n",
       "      <td>3.360100e+10</td>\n",
       "      <td>30.000000</td>\n",
       "      <td>1.000000</td>\n",
       "      <td>48.0</td>\n",
       "      <td>51.0</td>\n",
       "      <td>1.147860</td>\n",
       "      <td>0.030468</td>\n",
       "    </tr>\n",
       "    <tr>\n",
       "      <th>2</th>\n",
       "      <td>3.360100e+10</td>\n",
       "      <td>46.991676</td>\n",
       "      <td>7.621414</td>\n",
       "      <td>48.0</td>\n",
       "      <td>49.0</td>\n",
       "      <td>1.147860</td>\n",
       "      <td>0.030468</td>\n",
       "    </tr>\n",
       "    <tr>\n",
       "      <th>3</th>\n",
       "      <td>3.360101e+10</td>\n",
       "      <td>69.000000</td>\n",
       "      <td>15.000000</td>\n",
       "      <td>204.0</td>\n",
       "      <td>44.0</td>\n",
       "      <td>0.001017</td>\n",
       "      <td>0.030468</td>\n",
       "    </tr>\n",
       "    <tr>\n",
       "      <th>4</th>\n",
       "      <td>3.360101e+10</td>\n",
       "      <td>114.000000</td>\n",
       "      <td>5.000000</td>\n",
       "      <td>40395.0</td>\n",
       "      <td>103.0</td>\n",
       "      <td>10.064362</td>\n",
       "      <td>0.050687</td>\n",
       "    </tr>\n",
       "  </tbody>\n",
       "</table>\n",
       "</div>"
      ],
      "text/plain": [
       "   MSISDN/Number  Avg RTT DL (ms)  Avg RTT UL (ms)  Avg Bearer TP DL (kbps)  \\\n",
       "0   3.360100e+10        46.000000         0.000000                     37.0   \n",
       "1   3.360100e+10        30.000000         1.000000                     48.0   \n",
       "2   3.360100e+10        46.991676         7.621414                     48.0   \n",
       "3   3.360101e+10        69.000000        15.000000                    204.0   \n",
       "4   3.360101e+10       114.000000         5.000000                  40395.0   \n",
       "\n",
       "   Avg Bearer TP UL (kbps)  TCP DL Retrans. Vol (MB)  TCP UL Retrans. Vol (MB)  \n",
       "0                     39.0                  1.147860                  0.030468  \n",
       "1                     51.0                  1.147860                  0.030468  \n",
       "2                     49.0                  1.147860                  0.030468  \n",
       "3                     44.0                  0.001017                  0.030468  \n",
       "4                    103.0                 10.064362                  0.050687  "
      ]
     },
     "execution_count": 10,
     "metadata": {},
     "output_type": "execute_result"
    }
   ],
   "source": [
    "# Aggregate relevant columns per user\n",
    "aggregation_methods = {\n",
    "    'Avg RTT DL (ms)': 'sum', \n",
    "    'Avg RTT UL (ms)': 'sum',\n",
    "    'Avg Bearer TP DL (kbps)': 'sum', \n",
    "    'Avg Bearer TP UL (kbps)': 'sum',\n",
    "    'TCP DL Retrans. Vol (MB)': 'sum', \n",
    "    'TCP UL Retrans. Vol (MB)': 'sum',}\n",
    "relevant_df = converted_df.groupby('MSISDN/Number').agg(aggregation_methods).reset_index()\n",
    "relevant_df.head()"
   ]
  },
  {
   "cell_type": "markdown",
   "metadata": {},
   "source": [
    "### KMeans Clustering"
   ]
  },
  {
   "cell_type": "code",
   "execution_count": 11,
   "metadata": {},
   "outputs": [
    {
     "name": "stderr",
     "output_type": "stream",
     "text": [
      "INFO:root:K-Means clustering successful, customers classified into three groups\n"
     ]
    },
    {
     "data": {
      "text/html": [
       "<div>\n",
       "<style scoped>\n",
       "    .dataframe tbody tr th:only-of-type {\n",
       "        vertical-align: middle;\n",
       "    }\n",
       "\n",
       "    .dataframe tbody tr th {\n",
       "        vertical-align: top;\n",
       "    }\n",
       "\n",
       "    .dataframe thead th {\n",
       "        text-align: right;\n",
       "    }\n",
       "</style>\n",
       "<table border=\"1\" class=\"dataframe\">\n",
       "  <thead>\n",
       "    <tr style=\"text-align: right;\">\n",
       "      <th></th>\n",
       "      <th>MSISDN/Number</th>\n",
       "      <th>Avg RTT DL (ms)</th>\n",
       "      <th>Avg RTT UL (ms)</th>\n",
       "      <th>Avg Bearer TP DL (kbps)</th>\n",
       "      <th>Avg Bearer TP UL (kbps)</th>\n",
       "      <th>TCP DL Retrans. Vol (MB)</th>\n",
       "      <th>TCP UL Retrans. Vol (MB)</th>\n",
       "      <th>Clusters</th>\n",
       "    </tr>\n",
       "  </thead>\n",
       "  <tbody>\n",
       "    <tr>\n",
       "      <th>0</th>\n",
       "      <td>3.360100e+10</td>\n",
       "      <td>46.000000</td>\n",
       "      <td>0.000000</td>\n",
       "      <td>37.0</td>\n",
       "      <td>39.0</td>\n",
       "      <td>1.147860</td>\n",
       "      <td>0.030468</td>\n",
       "      <td>1</td>\n",
       "    </tr>\n",
       "    <tr>\n",
       "      <th>1</th>\n",
       "      <td>3.360100e+10</td>\n",
       "      <td>30.000000</td>\n",
       "      <td>1.000000</td>\n",
       "      <td>48.0</td>\n",
       "      <td>51.0</td>\n",
       "      <td>1.147860</td>\n",
       "      <td>0.030468</td>\n",
       "      <td>1</td>\n",
       "    </tr>\n",
       "    <tr>\n",
       "      <th>2</th>\n",
       "      <td>3.360100e+10</td>\n",
       "      <td>46.991676</td>\n",
       "      <td>7.621414</td>\n",
       "      <td>48.0</td>\n",
       "      <td>49.0</td>\n",
       "      <td>1.147860</td>\n",
       "      <td>0.030468</td>\n",
       "      <td>1</td>\n",
       "    </tr>\n",
       "    <tr>\n",
       "      <th>3</th>\n",
       "      <td>3.360101e+10</td>\n",
       "      <td>69.000000</td>\n",
       "      <td>15.000000</td>\n",
       "      <td>204.0</td>\n",
       "      <td>44.0</td>\n",
       "      <td>0.001017</td>\n",
       "      <td>0.030468</td>\n",
       "      <td>1</td>\n",
       "    </tr>\n",
       "    <tr>\n",
       "      <th>4</th>\n",
       "      <td>3.360101e+10</td>\n",
       "      <td>114.000000</td>\n",
       "      <td>5.000000</td>\n",
       "      <td>40395.0</td>\n",
       "      <td>103.0</td>\n",
       "      <td>10.064362</td>\n",
       "      <td>0.050687</td>\n",
       "      <td>0</td>\n",
       "    </tr>\n",
       "    <tr>\n",
       "      <th>5</th>\n",
       "      <td>3.360101e+10</td>\n",
       "      <td>67.991676</td>\n",
       "      <td>10.621414</td>\n",
       "      <td>7522.0</td>\n",
       "      <td>386.0</td>\n",
       "      <td>1.150492</td>\n",
       "      <td>0.060935</td>\n",
       "      <td>1</td>\n",
       "    </tr>\n",
       "    <tr>\n",
       "      <th>6</th>\n",
       "      <td>3.360101e+10</td>\n",
       "      <td>39.000000</td>\n",
       "      <td>14.000000</td>\n",
       "      <td>40971.0</td>\n",
       "      <td>1542.0</td>\n",
       "      <td>1.241585</td>\n",
       "      <td>0.041868</td>\n",
       "      <td>0</td>\n",
       "    </tr>\n",
       "    <tr>\n",
       "      <th>17</th>\n",
       "      <td>3.360103e+10</td>\n",
       "      <td>32.000000</td>\n",
       "      <td>28.000000</td>\n",
       "      <td>34682.0</td>\n",
       "      <td>63.0</td>\n",
       "      <td>2.147625</td>\n",
       "      <td>0.070142</td>\n",
       "      <td>0</td>\n",
       "    </tr>\n",
       "    <tr>\n",
       "      <th>29</th>\n",
       "      <td>3.360105e+10</td>\n",
       "      <td>138.983351</td>\n",
       "      <td>48.242829</td>\n",
       "      <td>110.0</td>\n",
       "      <td>112.0</td>\n",
       "      <td>9.664244</td>\n",
       "      <td>0.134466</td>\n",
       "      <td>0</td>\n",
       "    </tr>\n",
       "    <tr>\n",
       "      <th>31</th>\n",
       "      <td>3.360105e+10</td>\n",
       "      <td>80.000000</td>\n",
       "      <td>16.000000</td>\n",
       "      <td>23726.0</td>\n",
       "      <td>1221.0</td>\n",
       "      <td>1.161447</td>\n",
       "      <td>0.035659</td>\n",
       "      <td>0</td>\n",
       "    </tr>\n",
       "    <tr>\n",
       "      <th>403</th>\n",
       "      <td>3.360207e+10</td>\n",
       "      <td>304.983351</td>\n",
       "      <td>55.242829</td>\n",
       "      <td>76445.0</td>\n",
       "      <td>1493.0</td>\n",
       "      <td>2.357221</td>\n",
       "      <td>0.062410</td>\n",
       "      <td>2</td>\n",
       "    </tr>\n",
       "    <tr>\n",
       "      <th>666</th>\n",
       "      <td>3.360313e+10</td>\n",
       "      <td>748.983351</td>\n",
       "      <td>178.242829</td>\n",
       "      <td>132139.0</td>\n",
       "      <td>9275.0</td>\n",
       "      <td>11.679292</td>\n",
       "      <td>0.280373</td>\n",
       "      <td>2</td>\n",
       "    </tr>\n",
       "    <tr>\n",
       "      <th>717</th>\n",
       "      <td>3.360322e+10</td>\n",
       "      <td>223.000000</td>\n",
       "      <td>28.000000</td>\n",
       "      <td>25283.0</td>\n",
       "      <td>4895.0</td>\n",
       "      <td>6.751293</td>\n",
       "      <td>0.183463</td>\n",
       "      <td>2</td>\n",
       "    </tr>\n",
       "    <tr>\n",
       "      <th>1009</th>\n",
       "      <td>3.360371e+10</td>\n",
       "      <td>256.966703</td>\n",
       "      <td>63.485657</td>\n",
       "      <td>43357.0</td>\n",
       "      <td>1532.0</td>\n",
       "      <td>4.840140</td>\n",
       "      <td>0.153606</td>\n",
       "      <td>2</td>\n",
       "    </tr>\n",
       "    <tr>\n",
       "      <th>1269</th>\n",
       "      <td>3.360450e+10</td>\n",
       "      <td>218.000000</td>\n",
       "      <td>87.000000</td>\n",
       "      <td>68660.0</td>\n",
       "      <td>2357.0</td>\n",
       "      <td>3.201067</td>\n",
       "      <td>0.135411</td>\n",
       "      <td>2</td>\n",
       "    </tr>\n",
       "  </tbody>\n",
       "</table>\n",
       "</div>"
      ],
      "text/plain": [
       "      MSISDN/Number  Avg RTT DL (ms)  Avg RTT UL (ms)  \\\n",
       "0      3.360100e+10        46.000000         0.000000   \n",
       "1      3.360100e+10        30.000000         1.000000   \n",
       "2      3.360100e+10        46.991676         7.621414   \n",
       "3      3.360101e+10        69.000000        15.000000   \n",
       "4      3.360101e+10       114.000000         5.000000   \n",
       "5      3.360101e+10        67.991676        10.621414   \n",
       "6      3.360101e+10        39.000000        14.000000   \n",
       "17     3.360103e+10        32.000000        28.000000   \n",
       "29     3.360105e+10       138.983351        48.242829   \n",
       "31     3.360105e+10        80.000000        16.000000   \n",
       "403    3.360207e+10       304.983351        55.242829   \n",
       "666    3.360313e+10       748.983351       178.242829   \n",
       "717    3.360322e+10       223.000000        28.000000   \n",
       "1009   3.360371e+10       256.966703        63.485657   \n",
       "1269   3.360450e+10       218.000000        87.000000   \n",
       "\n",
       "      Avg Bearer TP DL (kbps)  Avg Bearer TP UL (kbps)  \\\n",
       "0                        37.0                     39.0   \n",
       "1                        48.0                     51.0   \n",
       "2                        48.0                     49.0   \n",
       "3                       204.0                     44.0   \n",
       "4                     40395.0                    103.0   \n",
       "5                      7522.0                    386.0   \n",
       "6                     40971.0                   1542.0   \n",
       "17                    34682.0                     63.0   \n",
       "29                      110.0                    112.0   \n",
       "31                    23726.0                   1221.0   \n",
       "403                   76445.0                   1493.0   \n",
       "666                  132139.0                   9275.0   \n",
       "717                   25283.0                   4895.0   \n",
       "1009                  43357.0                   1532.0   \n",
       "1269                  68660.0                   2357.0   \n",
       "\n",
       "      TCP DL Retrans. Vol (MB)  TCP UL Retrans. Vol (MB)  Clusters  \n",
       "0                     1.147860                  0.030468         1  \n",
       "1                     1.147860                  0.030468         1  \n",
       "2                     1.147860                  0.030468         1  \n",
       "3                     0.001017                  0.030468         1  \n",
       "4                    10.064362                  0.050687         0  \n",
       "5                     1.150492                  0.060935         1  \n",
       "6                     1.241585                  0.041868         0  \n",
       "17                    2.147625                  0.070142         0  \n",
       "29                    9.664244                  0.134466         0  \n",
       "31                    1.161447                  0.035659         0  \n",
       "403                   2.357221                  0.062410         2  \n",
       "666                  11.679292                  0.280373         2  \n",
       "717                   6.751293                  0.183463         2  \n",
       "1009                  4.840140                  0.153606         2  \n",
       "1269                  3.201067                  0.135411         2  "
      ]
     },
     "execution_count": 11,
     "metadata": {},
     "output_type": "execute_result"
    }
   ],
   "source": [
    "# Use the cluster_data utility function from Engagement utilities\n",
    "from scripts import enagagement_utils\n",
    "normalized_data = enagagement_utils.normalize_data(df=relevant_df)\n",
    "clusters = enagagement_utils.cluster_data(normalized_data=normalized_data,\n",
    "                                          n_clusters=3)\n",
    "# Add the cluster data to the dataframe\n",
    "relevant_df['Clusters'] = clusters\n",
    "# Group the dataframe by the cluster\n",
    "clustered_data = relevant_df.groupby('Clusters')\n",
    "clustered_data.head()"
   ]
  },
  {
   "cell_type": "code",
   "execution_count": 12,
   "metadata": {},
   "outputs": [],
   "source": [
    "# Compute the minimum, maximum, average, and total for each metric\n",
    "metrics = ['TCP DL Retrans. Vol (MB)', 'TCP UL Retrans. Vol (MB)', \n",
    "           'Avg Bearer TP DL (kbps)', 'Avg Bearer TP UL (kbps)', \n",
    "           'Avg RTT DL (ms)', 'Avg RTT UL (ms)']\n",
    "\n",
    "min_metrics = clustered_data[metrics].min()\n",
    "max_metrics = clustered_data[metrics].max()\n",
    "total_metrics = clustered_data[metrics].sum()\n",
    "avg_metrics = clustered_data[metrics].mean()"
   ]
  },
  {
   "cell_type": "markdown",
   "metadata": {},
   "source": [
    "##### Display descriptive statistics"
   ]
  },
  {
   "cell_type": "code",
   "execution_count": 13,
   "metadata": {},
   "outputs": [
    {
     "name": "stdout",
     "output_type": "stream",
     "text": [
      "Minimum Metrics for each Cluster:\n",
      "          TCP DL Retrans. Vol (MB)  TCP UL Retrans. Vol (MB)  \\\n",
      "Clusters                                                       \n",
      "0                         0.000036              9.536743e-07   \n",
      "1                         0.000002              9.536743e-07   \n",
      "2                         0.042436              6.378174e-03   \n",
      "\n",
      "          Avg Bearer TP DL (kbps)  Avg Bearer TP UL (kbps)  Avg RTT DL (ms)  \\\n",
      "Clusters                                                                      \n",
      "0                             0.0                      0.0             17.0   \n",
      "1                             0.0                      0.0              0.0   \n",
      "2                            69.0                     25.0             58.0   \n",
      "\n",
      "          Avg RTT UL (ms)  \n",
      "Clusters                   \n",
      "0                     1.0  \n",
      "1                     0.0  \n",
      "2                    10.0  \n"
     ]
    }
   ],
   "source": [
    "print(\"Minimum Metrics for each Cluster:\")\n",
    "print(min_metrics)"
   ]
  },
  {
   "cell_type": "code",
   "execution_count": 14,
   "metadata": {},
   "outputs": [
    {
     "name": "stdout",
     "output_type": "stream",
     "text": [
      "\n",
      "Maximum Metrics for each Cluster:\n",
      "          TCP DL Retrans. Vol (MB)  TCP UL Retrans. Vol (MB)  \\\n",
      "Clusters                                                       \n",
      "0                        21.424314                  0.403686   \n",
      "1                         9.978830                  0.193288   \n",
      "2                        35.999716                  0.692489   \n",
      "\n",
      "          Avg Bearer TP DL (kbps)  Avg Bearer TP UL (kbps)  Avg RTT DL (ms)  \\\n",
      "Clusters                                                                      \n",
      "0                        119738.0                   7773.0            411.0   \n",
      "1                         43013.0                   3604.0            213.0   \n",
      "2                        261472.0                  16127.0            979.0   \n",
      "\n",
      "          Avg RTT UL (ms)  \n",
      "Clusters                   \n",
      "0                    96.0  \n",
      "1                    50.0  \n",
      "2                   211.0  \n"
     ]
    }
   ],
   "source": [
    "print(\"\\nMaximum Metrics for each Cluster:\")\n",
    "print(max_metrics)"
   ]
  },
  {
   "cell_type": "code",
   "execution_count": 15,
   "metadata": {},
   "outputs": [
    {
     "name": "stdout",
     "output_type": "stream",
     "text": [
      "\n",
      "Total Metrics for each Cluster:\n",
      "          TCP DL Retrans. Vol (MB)  TCP UL Retrans. Vol (MB)  \\\n",
      "Clusters                                                       \n",
      "0                     55669.258211               1462.776773   \n",
      "1                     95354.755661               2635.097276   \n",
      "2                     20085.184259                442.838202   \n",
      "\n",
      "          Avg Bearer TP DL (kbps)  Avg Bearer TP UL (kbps)  Avg RTT DL (ms)  \\\n",
      "Clusters                                                                      \n",
      "0                     609416860.0               23167180.0     2.202447e+06   \n",
      "1                     176303251.0               17182608.0     4.074503e+06   \n",
      "2                     220863732.0                7548002.0     7.180330e+05   \n",
      "\n",
      "          Avg RTT UL (ms)  \n",
      "Clusters                   \n",
      "0           397621.884384  \n",
      "1           556055.731793  \n",
      "2           179594.955692  \n"
     ]
    }
   ],
   "source": [
    "print(\"\\nTotal Metrics for each Cluster:\")\n",
    "print(total_metrics)"
   ]
  },
  {
   "cell_type": "code",
   "execution_count": 16,
   "metadata": {},
   "outputs": [
    {
     "name": "stdout",
     "output_type": "stream",
     "text": [
      "\n",
      "Average Metrics for each Cluster:\n",
      "          TCP DL Retrans. Vol (MB)  TCP UL Retrans. Vol (MB)  \\\n",
      "Clusters                                                       \n",
      "0                         2.445173                  0.064250   \n",
      "1                         1.171161                  0.032365   \n",
      "2                         7.522541                  0.165857   \n",
      "\n",
      "          Avg Bearer TP DL (kbps)  Avg Bearer TP UL (kbps)  Avg RTT DL (ms)  \\\n",
      "Clusters                                                                      \n",
      "0                    26767.552159              1017.577195        96.738583   \n",
      "1                     2165.382171               211.039291        50.043634   \n",
      "2                    82720.498876              2826.967041       268.926204   \n",
      "\n",
      "          Avg RTT UL (ms)  \n",
      "Clusters                   \n",
      "0               17.464834  \n",
      "1                6.829557  \n",
      "2               67.264028  \n"
     ]
    }
   ],
   "source": [
    "print(\"\\nAverage Metrics for each Cluster:\")\n",
    "print(avg_metrics)"
   ]
  },
  {
   "cell_type": "code",
   "execution_count": 17,
   "metadata": {},
   "outputs": [
    {
     "data": {
      "image/png": "[encoded data removed]",
      "text/plain": [
       "<Figure size 1000x600 with 1 Axes>"
      ]
     },
     "metadata": {},
     "output_type": "display_data"
    }
   ],
   "source": [
    "# Draw barcharts for each statistical metric\n",
    "import matplotlib.pyplot as plt\n",
    "\n",
    "\n",
    "# Bar plot for minimum metrics per cluster\n",
    "min_metrics.plot(kind='bar', figsize=(10,6))\n",
    "plt.title('Minimum Metrics per Cluster')\n",
    "plt.ylabel('Minimum Value')\n",
    "plt.xticks(rotation=0)\n",
    "plt.show()"
   ]
  },
  {
   "cell_type": "code",
   "execution_count": 18,
   "metadata": {},
   "outputs": [
    {
     "data": {
      "image/png": "[encoded data removed]",
      "text/plain": [
       "<Figure size 1000x600 with 1 Axes>"
      ]
     },
     "metadata": {},
     "output_type": "display_data"
    }
   ],
   "source": [
    "# Bar plot for maximum metrics per cluster\n",
    "max_metrics.plot(kind='bar', figsize=(10,6))\n",
    "plt.title('Maximum Metrics per Cluster')\n",
    "plt.ylabel('Maximum Value')\n",
    "plt.xticks(rotation=0)\n",
    "plt.show()"
   ]
  },
  {
   "cell_type": "code",
   "execution_count": 19,
   "metadata": {},
   "outputs": [
    {
     "data": {
      "image/png": "[encoded data removed]",
      "text/plain": [
       "<Figure size 1000x600 with 1 Axes>"
      ]
     },
     "metadata": {},
     "output_type": "display_data"
    }
   ],
   "source": [
    "# Bar plot for total metrics per cluster\n",
    "total_metrics.plot(kind='bar', figsize=(10,6))\n",
    "plt.title('Total Metrics per Cluster')\n",
    "plt.ylabel('Total Value')\n",
    "plt.xticks(rotation=0)\n",
    "plt.show()"
   ]
  },
  {
   "cell_type": "code",
   "execution_count": 20,
   "metadata": {},
   "outputs": [
    {
     "data": {
      "image/png": "[encoded data removed]",
      "text/plain": [
       "<Figure size 1000x600 with 1 Axes>"
      ]
     },
     "metadata": {},
     "output_type": "display_data"
    }
   ],
   "source": [
    "# Bar plot for average metrics per cluster\n",
    "avg_metrics.plot(kind='bar', figsize=(10,6))\n",
    "plt.title('Average Metrics per Cluster')\n",
    "plt.ylabel('Average Value')\n",
    "plt.xticks(rotation=0)\n",
    "plt.show()"
   ]
  }
 ],
 "metadata": {
  "kernelspec": {
   "display_name": "venv",
   "language": "python",
   "name": "python3"
  },
  "language_info": {
   "codemirror_mode": {
    "name": "ipython",
    "version": 3
   },
   "file_extension": ".py",
   "mimetype": "text/x-python",
   "name": "python",
   "nbconvert_exporter": "python",
   "pygments_lexer": "ipython3",
   "version": "3.12.3"
  }
 },
 "nbformat": 4,
 "nbformat_minor": 2
}
