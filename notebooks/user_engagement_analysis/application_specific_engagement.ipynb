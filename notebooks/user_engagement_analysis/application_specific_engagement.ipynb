{
 "cells": [
  {
   "cell_type": "code",
   "execution_count": 1,
   "metadata": {},
   "outputs": [
    {
     "data": {
      "text/plain": [
       "['c:\\\\Users\\\\mekbi\\\\Desktop\\\\Kifiya\\\\week-2\\\\telecom-data-analysis',\n",
       " 'C:\\\\Users\\\\mekbi\\\\AppData\\\\Local\\\\Programs\\\\Python\\\\Python312\\\\python312.zip',\n",
       " 'C:\\\\Users\\\\mekbi\\\\AppData\\\\Local\\\\Programs\\\\Python\\\\Python312\\\\DLLs',\n",
       " 'C:\\\\Users\\\\mekbi\\\\AppData\\\\Local\\\\Programs\\\\Python\\\\Python312\\\\Lib',\n",
       " 'C:\\\\Users\\\\mekbi\\\\AppData\\\\Local\\\\Programs\\\\Python\\\\Python312',\n",
       " 'c:\\\\Users\\\\mekbi\\\\Desktop\\\\Kifiya\\\\week-2\\\\telecom-data-analysis\\\\venv',\n",
       " '',\n",
       " 'c:\\\\Users\\\\mekbi\\\\Desktop\\\\Kifiya\\\\week-2\\\\telecom-data-analysis\\\\venv\\\\Lib\\\\site-packages',\n",
       " 'c:\\\\Users\\\\mekbi\\\\Desktop\\\\Kifiya\\\\week-2\\\\telecom-data-analysis\\\\venv\\\\Lib\\\\site-packages\\\\win32',\n",
       " 'c:\\\\Users\\\\mekbi\\\\Desktop\\\\Kifiya\\\\week-2\\\\telecom-data-analysis\\\\venv\\\\Lib\\\\site-packages\\\\win32\\\\lib',\n",
       " 'c:\\\\Users\\\\mekbi\\\\Desktop\\\\Kifiya\\\\week-2\\\\telecom-data-analysis\\\\venv\\\\Lib\\\\site-packages\\\\Pythonwin']"
      ]
     },
     "execution_count": 1,
     "metadata": {},
     "output_type": "execute_result"
    }
   ],
   "source": [
    "# Add the parent directory to sys.path\n",
    "import sys, os\n",
    "from pathlib import Path\n",
    "\n",
    "current_directory = os.getcwd()\n",
    "parent_directory = Path(current_directory).parent.parent\n",
    "sys.path.insert(0, str(parent_directory))\n",
    "sys.path"
   ]
  },
  {
   "cell_type": "markdown",
   "metadata": {},
   "source": [
    "# Connect to database"
   ]
  },
  {
   "cell_type": "code",
   "execution_count": 2,
   "metadata": {},
   "outputs": [],
   "source": [
    "# Import the utils moudle\n",
    "from scripts import utils"
   ]
  },
  {
   "cell_type": "code",
   "execution_count": 3,
   "metadata": {},
   "outputs": [
    {
     "name": "stderr",
     "output_type": "stream",
     "text": [
      "INFO:scripts.utils:Trying to load environment variables from c:\\Users\\mekbi\\Desktop\\Kifiya\\week-2\\telecom-data-analysis/.env\n",
      "INFO:scripts.utils:Credentials loaded successfully\n",
      "INFO:scripts.utils:Attempting to connect to the database\n",
      "INFO:scripts.utils:Connection successful\n"
     ]
    }
   ],
   "source": [
    "# Load the credentialsand connect to database\n",
    "CREDENTIALS  = utils.load_environment_variables(parent_directory=parent_directory)\n",
    "connection = utils.connect_to_database({\"dbname\": CREDENTIALS['DB_NAME'],\n",
    "                                 \"user\": CREDENTIALS['USER'],\n",
    "                                 \"host\": CREDENTIALS['host'],\n",
    "                                 \"port\": CREDENTIALS['port']})"
   ]
  },
  {
   "cell_type": "code",
   "execution_count": 4,
   "metadata": {},
   "outputs": [
    {
     "name": "stderr",
     "output_type": "stream",
     "text": [
      "INFO:root:Executing query: SELECT * FROM xdr_data\n",
      "c:\\Users\\mekbi\\Desktop\\Kifiya\\week-2\\telecom-data-analysis\\scripts\\utils.py:48: UserWarning: pandas only supports SQLAlchemy connectable (engine/connection) or database string URI or sqlite3 DBAPI2 connection. Other DBAPI2 objects are not tested. Please consider using SQLAlchemy.\n",
      "  df = pd.read_sql_query(query, conn)\n",
      "INFO:scripts.utils:Data loaded into DataFrame successfully\n",
      "INFO:root:Database connection closed successfully\n"
     ]
    }
   ],
   "source": [
    "# Load the db files into pandas dataframe and close the connection\n",
    "table_name = 'xdr_data'\n",
    "df = utils.load_data_from_db(conn=connection,\n",
    "                       table_name=table_name)\n",
    "utils.close_database_connection(conn=connection)"
   ]
  },
  {
   "cell_type": "markdown",
   "metadata": {},
   "source": [
    "### Application Specific Engagement analysis"
   ]
  },
  {
   "cell_type": "code",
   "execution_count": 6,
   "metadata": {},
   "outputs": [
    {
     "data": {
      "text/plain": [
       "Index(['Bearer Id', 'Start', 'Start ms', 'End', 'End ms', 'Dur. (ms)', 'IMSI',\n",
       "       'MSISDN/Number', 'IMEI', 'Last Location Name', 'Avg RTT DL (ms)',\n",
       "       'Avg RTT UL (ms)', 'Avg Bearer TP DL (kbps)', 'Avg Bearer TP UL (kbps)',\n",
       "       'TCP DL Retrans. Vol (Bytes)', 'TCP UL Retrans. Vol (Bytes)',\n",
       "       'DL TP < 50 Kbps (%)', '50 Kbps < DL TP < 250 Kbps (%)',\n",
       "       '250 Kbps < DL TP < 1 Mbps (%)', 'DL TP > 1 Mbps (%)',\n",
       "       'UL TP < 10 Kbps (%)', '10 Kbps < UL TP < 50 Kbps (%)',\n",
       "       '50 Kbps < UL TP < 300 Kbps (%)', 'UL TP > 300 Kbps (%)',\n",
       "       'HTTP DL (Bytes)', 'HTTP UL (Bytes)', 'Activity Duration DL (ms)',\n",
       "       'Activity Duration UL (ms)', 'Dur. (ms).1', 'Handset Manufacturer',\n",
       "       'Handset Type', 'Nb of sec with 125000B < Vol DL',\n",
       "       'Nb of sec with 1250B < Vol UL < 6250B',\n",
       "       'Nb of sec with 31250B < Vol DL < 125000B',\n",
       "       'Nb of sec with 37500B < Vol UL',\n",
       "       'Nb of sec with 6250B < Vol DL < 31250B',\n",
       "       'Nb of sec with 6250B < Vol UL < 37500B',\n",
       "       'Nb of sec with Vol DL < 6250B', 'Nb of sec with Vol UL < 1250B',\n",
       "       'Social Media DL (Bytes)', 'Social Media UL (Bytes)',\n",
       "       'Google DL (Bytes)', 'Google UL (Bytes)', 'Email DL (Bytes)',\n",
       "       'Email UL (Bytes)', 'Youtube DL (Bytes)', 'Youtube UL (Bytes)',\n",
       "       'Netflix DL (Bytes)', 'Netflix UL (Bytes)', 'Gaming DL (Bytes)',\n",
       "       'Gaming UL (Bytes)', 'Other DL (Bytes)', 'Other UL (Bytes)',\n",
       "       'Total UL (Bytes)', 'Total DL (Bytes)'],\n",
       "      dtype='object')"
      ]
     },
     "execution_count": 6,
     "metadata": {},
     "output_type": "execute_result"
    }
   ],
   "source": [
    "# Inspect dataset columns\n",
    "df.columns"
   ]
  },
  {
   "cell_type": "markdown",
   "metadata": {},
   "source": [
    "##### Aggregate relevant metrics for each user"
   ]
  },
  {
   "cell_type": "code",
   "execution_count": 8,
   "metadata": {},
   "outputs": [],
   "source": [
    "# Import the engagement utils module\n",
    "from scripts import enagagement_utils"
   ]
  },
  {
   "cell_type": "code",
   "execution_count": 10,
   "metadata": {},
   "outputs": [
    {
     "name": "stderr",
     "output_type": "stream",
     "text": [
      "INFO:root:Total data calculation and grouping successful\n"
     ]
    },
    {
     "data": {
      "text/html": [
       "<div>\n",
       "<style scoped>\n",
       "    .dataframe tbody tr th:only-of-type {\n",
       "        vertical-align: middle;\n",
       "    }\n",
       "\n",
       "    .dataframe tbody tr th {\n",
       "        vertical-align: top;\n",
       "    }\n",
       "\n",
       "    .dataframe thead th {\n",
       "        text-align: right;\n",
       "    }\n",
       "</style>\n",
       "<table border=\"1\" class=\"dataframe\">\n",
       "  <thead>\n",
       "    <tr style=\"text-align: right;\">\n",
       "      <th></th>\n",
       "      <th>MSISDN/Number</th>\n",
       "      <th>Social Media Total Data (Bytes)</th>\n",
       "      <th>Google Total Data (Bytes)</th>\n",
       "      <th>Email Total Data (Bytes)</th>\n",
       "      <th>Youtube Total Data (Bytes)</th>\n",
       "      <th>Netflix Total Data (Bytes)</th>\n",
       "      <th>Gaming Total Data (Bytes)</th>\n",
       "      <th>Other Total Data (Bytes)</th>\n",
       "    </tr>\n",
       "  </thead>\n",
       "  <tbody>\n",
       "    <tr>\n",
       "      <th>0</th>\n",
       "      <td>3.360100e+10</td>\n",
       "      <td>2232135.0</td>\n",
       "      <td>4389005.0</td>\n",
       "      <td>1331362.0</td>\n",
       "      <td>21624548.0</td>\n",
       "      <td>27180981.0</td>\n",
       "      <td>8.124587e+08</td>\n",
       "      <td>386570872.0</td>\n",
       "    </tr>\n",
       "    <tr>\n",
       "      <th>1</th>\n",
       "      <td>3.360100e+10</td>\n",
       "      <td>2660565.0</td>\n",
       "      <td>5334863.0</td>\n",
       "      <td>3307781.0</td>\n",
       "      <td>12432223.0</td>\n",
       "      <td>11221763.0</td>\n",
       "      <td>1.197501e+08</td>\n",
       "      <td>281710071.0</td>\n",
       "    </tr>\n",
       "    <tr>\n",
       "      <th>2</th>\n",
       "      <td>3.360100e+10</td>\n",
       "      <td>3195623.0</td>\n",
       "      <td>3443126.0</td>\n",
       "      <td>3205380.0</td>\n",
       "      <td>21333570.0</td>\n",
       "      <td>19353900.0</td>\n",
       "      <td>5.388277e+08</td>\n",
       "      <td>501693672.0</td>\n",
       "    </tr>\n",
       "    <tr>\n",
       "      <th>3</th>\n",
       "      <td>3.360101e+10</td>\n",
       "      <td>280294.0</td>\n",
       "      <td>9678493.0</td>\n",
       "      <td>2284670.0</td>\n",
       "      <td>6977321.0</td>\n",
       "      <td>1942092.0</td>\n",
       "      <td>3.911261e+08</td>\n",
       "      <td>35279702.0</td>\n",
       "    </tr>\n",
       "    <tr>\n",
       "      <th>4</th>\n",
       "      <td>3.360101e+10</td>\n",
       "      <td>2912542.0</td>\n",
       "      <td>18499616.0</td>\n",
       "      <td>3305469.0</td>\n",
       "      <td>41533002.0</td>\n",
       "      <td>49201724.0</td>\n",
       "      <td>1.314798e+09</td>\n",
       "      <td>804804484.0</td>\n",
       "    </tr>\n",
       "  </tbody>\n",
       "</table>\n",
       "</div>"
      ],
      "text/plain": [
       "   MSISDN/Number  Social Media Total Data (Bytes)  Google Total Data (Bytes)  \\\n",
       "0   3.360100e+10                        2232135.0                  4389005.0   \n",
       "1   3.360100e+10                        2660565.0                  5334863.0   \n",
       "2   3.360100e+10                        3195623.0                  3443126.0   \n",
       "3   3.360101e+10                         280294.0                  9678493.0   \n",
       "4   3.360101e+10                        2912542.0                 18499616.0   \n",
       "\n",
       "   Email Total Data (Bytes)  Youtube Total Data (Bytes)  \\\n",
       "0                 1331362.0                  21624548.0   \n",
       "1                 3307781.0                  12432223.0   \n",
       "2                 3205380.0                  21333570.0   \n",
       "3                 2284670.0                   6977321.0   \n",
       "4                 3305469.0                  41533002.0   \n",
       "\n",
       "   Netflix Total Data (Bytes)  Gaming Total Data (Bytes)  \\\n",
       "0                  27180981.0               8.124587e+08   \n",
       "1                  11221763.0               1.197501e+08   \n",
       "2                  19353900.0               5.388277e+08   \n",
       "3                   1942092.0               3.911261e+08   \n",
       "4                  49201724.0               1.314798e+09   \n",
       "\n",
       "   Other Total Data (Bytes)  \n",
       "0               386570872.0  \n",
       "1               281710071.0  \n",
       "2               501693672.0  \n",
       "3                35279702.0  \n",
       "4               804804484.0  "
      ]
     },
     "execution_count": 10,
     "metadata": {},
     "output_type": "execute_result"
    }
   ],
   "source": [
    "# Aggregate the data for each user per application total traffic\n",
    "applications = ['Social Media', 'Google', 'Email', 'Youtube', 'Netflix', 'Gaming', 'Other']\n",
    "relevant_df = enagagement_utils.calculate_total_data_per_app(df=df,\n",
    "                                                             applications=applications)\n",
    "relevant_df.head()"
   ]
  },
  {
   "cell_type": "code",
   "execution_count": 23,
   "metadata": {},
   "outputs": [
    {
     "name": "stderr",
     "output_type": "stream",
     "text": [
      "INFO:root:Conversion of 'Social Media Total Data (Bytes)' to gigabytes in column 'Social Media Total Data (GB)' successful\n",
      "INFO:root:Conversion of 'Google Total Data (Bytes)' to gigabytes in column 'Google Total Data (GB)' successful\n",
      "INFO:root:Conversion of 'Email Total Data (Bytes)' to gigabytes in column 'Email Total Data (GB)' successful\n",
      "INFO:root:Conversion of 'Youtube Total Data (Bytes)' to gigabytes in column 'Youtube Total Data (GB)' successful\n",
      "INFO:root:Conversion of 'Netflix Total Data (Bytes)' to gigabytes in column 'Netflix Total Data (GB)' successful\n",
      "INFO:root:Conversion of 'Gaming Total Data (Bytes)' to gigabytes in column 'Gaming Total Data (GB)' successful\n",
      "INFO:root:Conversion of 'Other Total Data (Bytes)' to gigabytes in column 'Other Total Data (GB)' successful\n"
     ]
    },
    {
     "data": {
      "text/html": [
       "<div>\n",
       "<style scoped>\n",
       "    .dataframe tbody tr th:only-of-type {\n",
       "        vertical-align: middle;\n",
       "    }\n",
       "\n",
       "    .dataframe tbody tr th {\n",
       "        vertical-align: top;\n",
       "    }\n",
       "\n",
       "    .dataframe thead th {\n",
       "        text-align: right;\n",
       "    }\n",
       "</style>\n",
       "<table border=\"1\" class=\"dataframe\">\n",
       "  <thead>\n",
       "    <tr style=\"text-align: right;\">\n",
       "      <th></th>\n",
       "      <th>MSISDN/Number</th>\n",
       "      <th>Social Media Total Data (GB)</th>\n",
       "      <th>Google Total Data (GB)</th>\n",
       "      <th>Email Total Data (GB)</th>\n",
       "      <th>Youtube Total Data (GB)</th>\n",
       "      <th>Netflix Total Data (GB)</th>\n",
       "      <th>Gaming Total Data (GB)</th>\n",
       "      <th>Other Total Data (GB)</th>\n",
       "    </tr>\n",
       "  </thead>\n",
       "  <tbody>\n",
       "    <tr>\n",
       "      <th>0</th>\n",
       "      <td>3.360100e+10</td>\n",
       "      <td>0.002079</td>\n",
       "      <td>0.004088</td>\n",
       "      <td>0.001240</td>\n",
       "      <td>0.020139</td>\n",
       "      <td>0.025314</td>\n",
       "      <td>0.756661</td>\n",
       "      <td>0.360022</td>\n",
       "    </tr>\n",
       "    <tr>\n",
       "      <th>1</th>\n",
       "      <td>3.360100e+10</td>\n",
       "      <td>0.002478</td>\n",
       "      <td>0.004968</td>\n",
       "      <td>0.003081</td>\n",
       "      <td>0.011578</td>\n",
       "      <td>0.010451</td>\n",
       "      <td>0.111526</td>\n",
       "      <td>0.262363</td>\n",
       "    </tr>\n",
       "    <tr>\n",
       "      <th>2</th>\n",
       "      <td>3.360100e+10</td>\n",
       "      <td>0.002976</td>\n",
       "      <td>0.003207</td>\n",
       "      <td>0.002985</td>\n",
       "      <td>0.019868</td>\n",
       "      <td>0.018025</td>\n",
       "      <td>0.501822</td>\n",
       "      <td>0.467239</td>\n",
       "    </tr>\n",
       "    <tr>\n",
       "      <th>3</th>\n",
       "      <td>3.360101e+10</td>\n",
       "      <td>0.000261</td>\n",
       "      <td>0.009014</td>\n",
       "      <td>0.002128</td>\n",
       "      <td>0.006498</td>\n",
       "      <td>0.001809</td>\n",
       "      <td>0.364265</td>\n",
       "      <td>0.032857</td>\n",
       "    </tr>\n",
       "    <tr>\n",
       "      <th>4</th>\n",
       "      <td>3.360101e+10</td>\n",
       "      <td>0.002713</td>\n",
       "      <td>0.017229</td>\n",
       "      <td>0.003078</td>\n",
       "      <td>0.038681</td>\n",
       "      <td>0.045823</td>\n",
       "      <td>1.224501</td>\n",
       "      <td>0.749533</td>\n",
       "    </tr>\n",
       "  </tbody>\n",
       "</table>\n",
       "</div>"
      ],
      "text/plain": [
       "   MSISDN/Number  Social Media Total Data (GB)  Google Total Data (GB)  \\\n",
       "0   3.360100e+10                      0.002079                0.004088   \n",
       "1   3.360100e+10                      0.002478                0.004968   \n",
       "2   3.360100e+10                      0.002976                0.003207   \n",
       "3   3.360101e+10                      0.000261                0.009014   \n",
       "4   3.360101e+10                      0.002713                0.017229   \n",
       "\n",
       "   Email Total Data (GB)  Youtube Total Data (GB)  Netflix Total Data (GB)  \\\n",
       "0               0.001240                 0.020139                 0.025314   \n",
       "1               0.003081                 0.011578                 0.010451   \n",
       "2               0.002985                 0.019868                 0.018025   \n",
       "3               0.002128                 0.006498                 0.001809   \n",
       "4               0.003078                 0.038681                 0.045823   \n",
       "\n",
       "   Gaming Total Data (GB)  Other Total Data (GB)  \n",
       "0                0.756661               0.360022  \n",
       "1                0.111526               0.262363  \n",
       "2                0.501822               0.467239  \n",
       "3                0.364265               0.032857  \n",
       "4                1.224501               0.749533  "
      ]
     },
     "execution_count": 23,
     "metadata": {},
     "output_type": "execute_result"
    }
   ],
   "source": [
    "# Convert Bytes data to GB\n",
    "for application in applications:\n",
    "    modified_df = enagagement_utils.convert_bytes_to_gigabytes(df=relevant_df,\n",
    "                                                               bytes_column=f'{application} Total Data (Bytes)',\n",
    "                                                               gb_column=f'{application} Total Data (GB)')\n",
    "modified_df.head()"
   ]
  },
  {
   "cell_type": "markdown",
   "metadata": {},
   "source": [
    "##### calculate top 10 users per app"
   ]
  },
  {
   "cell_type": "code",
   "execution_count": 28,
   "metadata": {},
   "outputs": [
    {
     "name": "stdout",
     "output_type": "stream",
     "text": [
      "Top 10 users for Social Media\n",
      "        MSISDN/Number  Social Media Total Data (GB)\n",
      "13526    3.362632e+10                      0.040396\n",
      "92923    3.376054e+10                      0.037051\n",
      "37052    3.365973e+10                      0.032980\n",
      "6437     3.361489e+10                      0.026351\n",
      "13180    3.362578e+10                      0.025272\n",
      "65118    3.366716e+10                      0.022583\n",
      "106137   3.378632e+10                      0.022328\n",
      "70960    3.366907e+10                      0.022166\n",
      "666      3.360313e+10                      0.021493\n",
      "31331    3.365849e+10                      0.021420\n",
      "\n",
      "Top 10 users for Google\n",
      "        MSISDN/Number  Google Total Data (GB)\n",
      "13526    3.362632e+10                0.141740\n",
      "13180    3.362578e+10                0.132535\n",
      "6437     3.361489e+10                0.119185\n",
      "92923    3.376054e+10                0.114760\n",
      "37052    3.365973e+10                0.108514\n",
      "106137   3.378632e+10                0.102682\n",
      "76363    3.367588e+10                0.102316\n",
      "65118    3.366716e+10                0.097819\n",
      "94654    3.376127e+10                0.090422\n",
      "86313    3.369876e+10                0.085621\n",
      "\n",
      "Top 10 users for Email\n",
      "        MSISDN/Number  Email Total Data (GB)\n",
      "13526    3.362632e+10               0.039506\n",
      "6437     3.361489e+10               0.037987\n",
      "13180    3.362578e+10               0.037843\n",
      "106137   3.378632e+10               0.033816\n",
      "37052    3.365973e+10               0.033527\n",
      "92923    3.376054e+10               0.031380\n",
      "76363    3.367588e+10               0.029350\n",
      "60087    3.366546e+10               0.028329\n",
      "65118    3.366716e+10               0.028252\n",
      "86455    3.369879e+10               0.027063\n",
      "\n",
      "Top 10 users for Youtube\n",
      "       MSISDN/Number  Youtube Total Data (GB)\n",
      "13180   3.362578e+10                 0.421851\n",
      "92923   3.376054e+10                 0.369073\n",
      "6437    3.361489e+10                 0.367286\n",
      "13526   3.362632e+10                 0.348765\n",
      "76363   3.367588e+10                 0.295612\n",
      "65118   3.366716e+10                 0.293582\n",
      "13994   3.362708e+10                 0.287584\n",
      "92577   3.376041e+10                 0.282348\n",
      "86455   3.369879e+10                 0.281876\n",
      "666     3.360313e+10                 0.264580\n",
      "\n",
      "Top 10 users for Netflix\n",
      "        MSISDN/Number  Netflix Total Data (GB)\n",
      "37052    3.365973e+10                 0.372081\n",
      "6437     3.361489e+10                 0.336581\n",
      "13180    3.362578e+10                 0.332464\n",
      "92923    3.376054e+10                 0.311661\n",
      "13526    3.362632e+10                 0.306150\n",
      "92577    3.376041e+10                 0.296484\n",
      "65118    3.366716e+10                 0.292379\n",
      "76363    3.367588e+10                 0.287865\n",
      "106137   3.378632e+10                 0.284929\n",
      "94654    3.376127e+10                 0.272031\n",
      "\n",
      "Top 10 users for Gaming\n",
      "       MSISDN/Number  Gaming Total Data (GB)\n",
      "6437    3.361489e+10                7.217221\n",
      "92923   3.376054e+10                6.948640\n",
      "13180   3.362578e+10                6.823496\n",
      "76363   3.367588e+10                6.491847\n",
      "13526   3.362632e+10                6.414551\n",
      "37052   3.365973e+10                6.263665\n",
      "63028   3.366646e+10                6.189852\n",
      "92577   3.376041e+10                5.838107\n",
      "57241   3.366471e+10                5.684659\n",
      "86455   3.369879e+10                5.358591\n",
      "\n",
      "Top 10 users for Other\n",
      "       MSISDN/Number  Other Total Data (GB)\n",
      "13526   3.362632e+10               7.606929\n",
      "6437    3.361489e+10               7.114619\n",
      "76363   3.367588e+10               6.331611\n",
      "13180   3.362578e+10               5.918167\n",
      "666     3.360313e+10               5.892171\n",
      "37052   3.365973e+10               5.883552\n",
      "13936   3.362695e+10               4.941083\n",
      "13994   3.362708e+10               4.766314\n",
      "94654   3.376127e+10               4.729051\n",
      "30715   3.365836e+10               4.669326\n",
      "\n"
     ]
    }
   ],
   "source": [
    "top_10_users_per_app = {}\n",
    "for application in applications:\n",
    "    top_10_users_per_app[application] = modified_df[['MSISDN/Number',\n",
    "                                                  f'{application} Total Data (GB)']].sort_values(by= f'{application} Total Data (GB)',\n",
    "                                                                                                    ascending=False).head(10)\n",
    "for app, data in top_10_users_per_app.items():\n",
    "    print(f'Top 10 users for {app}')\n",
    "    print(f'{data}\\n')\n"
   ]
  },
  {
   "cell_type": "markdown",
   "metadata": {},
   "source": [
    "##### Plot the top 3 most used apps per user"
   ]
  },
  {
   "cell_type": "code",
   "execution_count": 30,
   "metadata": {},
   "outputs": [
    {
     "data": {
      "text/plain": [
       "Gaming Total Data (GB)     59687.455566\n",
       "Other Total Data (GB)      59562.039111\n",
       "Youtube Total Data (GB)     3140.610003\n",
       "dtype: float64"
      ]
     },
     "execution_count": 30,
     "metadata": {},
     "output_type": "execute_result"
    }
   ],
   "source": [
    "# Calculate total data for each app and extract the top 3 apps\n",
    "total_data_per_app = modified_df[[f'{application} Total Data (GB)' for application in applications]].sum()\n",
    "top_3_apps = total_data_per_app.nlargest(3)\n",
    "top_3_apps\n"
   ]
  },
  {
   "cell_type": "code",
   "execution_count": 31,
   "metadata": {},
   "outputs": [
    {
     "data": {
      "image/png": "[encoded data removed]",
      "text/plain": [
       "<Figure size 800x600 with 1 Axes>"
      ]
     },
     "metadata": {},
     "output_type": "display_data"
    }
   ],
   "source": [
    "import matplotlib.pyplot as plt\n",
    "# Create a bar chart\n",
    "plt.figure(figsize=(8, 6))\n",
    "top_3_apps.plot(kind='bar', color=['blue', 'green', 'orange'])\n",
    "plt.title('Top 3 Most Used Applications by Data Usage')\n",
    "plt.ylabel('Total Data Used (Bytes)')\n",
    "plt.xlabel('Application')\n",
    "plt.xticks(rotation=45)\n",
    "plt.tight_layout()"
   ]
  }
 ],
 "metadata": {
  "kernelspec": {
   "display_name": "venv",
   "language": "python",
   "name": "python3"
  },
  "language_info": {
   "codemirror_mode": {
    "name": "ipython",
    "version": 3
   },
   "file_extension": ".py",
   "mimetype": "text/x-python",
   "name": "python",
   "nbconvert_exporter": "python",
   "pygments_lexer": "ipython3",
   "version": "3.12.3"
  }
 },
 "nbformat": 4,
 "nbformat_minor": 2
}
