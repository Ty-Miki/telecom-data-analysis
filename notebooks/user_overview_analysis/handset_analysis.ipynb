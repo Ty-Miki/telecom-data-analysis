{
 "cells": [
  {
   "cell_type": "code",
   "execution_count": 1,
   "metadata": {},
   "outputs": [
    {
     "data": {
      "text/plain": [
       "['c:\\\\Users\\\\mekbi\\\\Desktop\\\\Kifiya\\\\week-2\\\\telecom-data-analysis',\n",
       " 'E:\\\\python_projects\\\\CVbot',\n",
       " 'c:\\\\Users\\\\mekbi\\\\Desktop\\\\Kifiya\\\\week-2\\\\telecom-data-analysis\\\\notebooks\\\\user_overview_analysis',\n",
       " 'C:\\\\Users\\\\mekbi\\\\AppData\\\\Local\\\\Programs\\\\Python\\\\Python312\\\\python312.zip',\n",
       " 'C:\\\\Users\\\\mekbi\\\\AppData\\\\Local\\\\Programs\\\\Python\\\\Python312\\\\DLLs',\n",
       " 'C:\\\\Users\\\\mekbi\\\\AppData\\\\Local\\\\Programs\\\\Python\\\\Python312\\\\Lib',\n",
       " 'C:\\\\Users\\\\mekbi\\\\AppData\\\\Local\\\\Programs\\\\Python\\\\Python312',\n",
       " 'c:\\\\Users\\\\mekbi\\\\Desktop\\\\Kifiya\\\\week-2\\\\telecom-data-analysis\\\\venv',\n",
       " '',\n",
       " 'c:\\\\Users\\\\mekbi\\\\Desktop\\\\Kifiya\\\\week-2\\\\telecom-data-analysis\\\\venv\\\\Lib\\\\site-packages',\n",
       " 'c:\\\\Users\\\\mekbi\\\\Desktop\\\\Kifiya\\\\week-2\\\\telecom-data-analysis\\\\venv\\\\Lib\\\\site-packages\\\\win32',\n",
       " 'c:\\\\Users\\\\mekbi\\\\Desktop\\\\Kifiya\\\\week-2\\\\telecom-data-analysis\\\\venv\\\\Lib\\\\site-packages\\\\win32\\\\lib',\n",
       " 'c:\\\\Users\\\\mekbi\\\\Desktop\\\\Kifiya\\\\week-2\\\\telecom-data-analysis\\\\venv\\\\Lib\\\\site-packages\\\\Pythonwin']"
      ]
     },
     "execution_count": 1,
     "metadata": {},
     "output_type": "execute_result"
    }
   ],
   "source": [
    "# Add the parent directory to sys.path\n",
    "import sys, os\n",
    "from pathlib import Path\n",
    "\n",
    "current_directory = os.getcwd()\n",
    "parent_directory = Path(current_directory).parent.parent\n",
    "sys.path.insert(0, str(parent_directory))\n",
    "sys.path\n"
   ]
  },
  {
   "cell_type": "markdown",
   "metadata": {},
   "source": [
    "# Connect to Database"
   ]
  },
  {
   "cell_type": "code",
   "execution_count": 2,
   "metadata": {},
   "outputs": [
    {
     "name": "stderr",
     "output_type": "stream",
     "text": [
      "INFO:scripts.utils:Trying to load environment variables from c:\\Users\\mekbi\\Desktop\\Kifiya\\week-2\\telecom-data-analysis/.env\n",
      "INFO:scripts.utils:Credentials loaded successfully\n"
     ]
    }
   ],
   "source": [
    "# Load environment variables\n",
    "from scripts.utils import load_environment_variables\n",
    "\n",
    "CREDENTIALS = load_environment_variables(parent_directory=parent_directory)"
   ]
  }
 ],
 "metadata": {
  "kernelspec": {
   "display_name": "venv",
   "language": "python",
   "name": "python3"
  },
  "language_info": {
   "codemirror_mode": {
    "name": "ipython",
    "version": 3
   },
   "file_extension": ".py",
   "mimetype": "text/x-python",
   "name": "python",
   "nbconvert_exporter": "python",
   "pygments_lexer": "ipython3",
   "version": "3.12.3"
  }
 },
 "nbformat": 4,
 "nbformat_minor": 2
}
